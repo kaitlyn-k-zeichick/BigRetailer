{
 "cells": [
  {
   "cell_type": "markdown",
   "id": "measured-factor",
   "metadata": {},
   "source": [
    "# Summary"
   ]
  },
  {
   "cell_type": "markdown",
   "id": "dutch-latter",
   "metadata": {},
   "source": [
    "Cleaning:\n",
    "* Removed Purchase_Prod_ID, CustomerTier2, and Customer_ID as features since they would overfit the data.\n",
    "* Removed ages under 18 and null values. \n",
    "* Changed categorical variables to dummy variables.\n",
    "* Ensured that there wasn't multi-collinearity."
   ]
  },
  {
   "cell_type": "markdown",
   "id": "verbal-chancellor",
   "metadata": {},
   "source": [
    "# Import Libraries and Data"
   ]
  },
  {
   "cell_type": "code",
   "execution_count": 164,
   "id": "killing-seeking",
   "metadata": {
    "ExecuteTime": {
     "end_time": "2021-04-26T21:57:20.483258Z",
     "start_time": "2021-04-26T21:57:20.450205Z"
    }
   },
   "outputs": [],
   "source": [
    "import pandas as pd\n",
    "from sklearn.utils import resample\n",
    "import seaborn as sns\n",
    "import matplotlib.pyplot as plt"
   ]
  },
  {
   "cell_type": "code",
   "execution_count": 165,
   "id": "occupied-rainbow",
   "metadata": {
    "ExecuteTime": {
     "end_time": "2021-04-26T21:57:20.901245Z",
     "start_time": "2021-04-26T21:57:20.833814Z"
    }
   },
   "outputs": [],
   "source": [
    "df = pd.read_csv('train_data.csv')"
   ]
  },
  {
   "cell_type": "code",
   "execution_count": 166,
   "id": "prescription-floor",
   "metadata": {
    "ExecuteTime": {
     "end_time": "2021-04-26T21:57:21.285717Z",
     "start_time": "2021-04-26T21:57:21.256504Z"
    }
   },
   "outputs": [],
   "source": [
    "df_test = pd.read_csv('test_data.csv')"
   ]
  },
  {
   "cell_type": "code",
   "execution_count": 167,
   "id": "diverse-convertible",
   "metadata": {
    "ExecuteTime": {
     "end_time": "2021-04-26T21:57:21.627654Z",
     "start_time": "2021-04-26T21:57:21.613996Z"
    }
   },
   "outputs": [
    {
     "data": {
      "text/html": [
       "<div>\n",
       "<style scoped>\n",
       "    .dataframe tbody tr th:only-of-type {\n",
       "        vertical-align: middle;\n",
       "    }\n",
       "\n",
       "    .dataframe tbody tr th {\n",
       "        vertical-align: top;\n",
       "    }\n",
       "\n",
       "    .dataframe thead th {\n",
       "        text-align: right;\n",
       "    }\n",
       "</style>\n",
       "<table border=\"1\" class=\"dataframe\">\n",
       "  <thead>\n",
       "    <tr style=\"text-align: right;\">\n",
       "      <th></th>\n",
       "      <th>Unnamed: 0</th>\n",
       "      <th>Rewards_Signup</th>\n",
       "      <th>Customer_ID</th>\n",
       "      <th>Age</th>\n",
       "      <th>Sex</th>\n",
       "      <th>Addtl_HH_size</th>\n",
       "      <th>CustomerType</th>\n",
       "      <th>LastPurchaseAmt</th>\n",
       "      <th>Purchase_Prod_ID</th>\n",
       "      <th>CustomerTier</th>\n",
       "      <th>CustomerTier2</th>\n",
       "    </tr>\n",
       "  </thead>\n",
       "  <tbody>\n",
       "    <tr>\n",
       "      <th>0</th>\n",
       "      <td>0</td>\n",
       "      <td>1</td>\n",
       "      <td>67</td>\n",
       "      <td>29.0</td>\n",
       "      <td>female</td>\n",
       "      <td>0</td>\n",
       "      <td>New</td>\n",
       "      <td>10.5000</td>\n",
       "      <td>C.A. 29395</td>\n",
       "      <td>2</td>\n",
       "      <td>F33</td>\n",
       "    </tr>\n",
       "    <tr>\n",
       "      <th>1</th>\n",
       "      <td>1</td>\n",
       "      <td>1</td>\n",
       "      <td>40</td>\n",
       "      <td>14.0</td>\n",
       "      <td>female</td>\n",
       "      <td>1</td>\n",
       "      <td>Reactivated</td>\n",
       "      <td>11.2417</td>\n",
       "      <td>2651</td>\n",
       "      <td>3</td>\n",
       "      <td>NaN</td>\n",
       "    </tr>\n",
       "    <tr>\n",
       "      <th>2</th>\n",
       "      <td>2</td>\n",
       "      <td>1</td>\n",
       "      <td>45</td>\n",
       "      <td>19.0</td>\n",
       "      <td>female</td>\n",
       "      <td>0</td>\n",
       "      <td>Existing</td>\n",
       "      <td>7.8792</td>\n",
       "      <td>330958</td>\n",
       "      <td>3</td>\n",
       "      <td>NaN</td>\n",
       "    </tr>\n",
       "    <tr>\n",
       "      <th>3</th>\n",
       "      <td>3</td>\n",
       "      <td>0</td>\n",
       "      <td>87</td>\n",
       "      <td>16.0</td>\n",
       "      <td>male</td>\n",
       "      <td>4</td>\n",
       "      <td>New</td>\n",
       "      <td>34.3750</td>\n",
       "      <td>W./C. 6608</td>\n",
       "      <td>3</td>\n",
       "      <td>NaN</td>\n",
       "    </tr>\n",
       "    <tr>\n",
       "      <th>4</th>\n",
       "      <td>4</td>\n",
       "      <td>0</td>\n",
       "      <td>486</td>\n",
       "      <td>NaN</td>\n",
       "      <td>female</td>\n",
       "      <td>4</td>\n",
       "      <td>New</td>\n",
       "      <td>25.4667</td>\n",
       "      <td>4133</td>\n",
       "      <td>3</td>\n",
       "      <td>NaN</td>\n",
       "    </tr>\n",
       "  </tbody>\n",
       "</table>\n",
       "</div>"
      ],
      "text/plain": [
       "   Unnamed: 0  Rewards_Signup  Customer_ID   Age     Sex  Addtl_HH_size  \\\n",
       "0           0               1           67  29.0  female              0   \n",
       "1           1               1           40  14.0  female              1   \n",
       "2           2               1           45  19.0  female              0   \n",
       "3           3               0           87  16.0    male              4   \n",
       "4           4               0          486   NaN  female              4   \n",
       "\n",
       "  CustomerType  LastPurchaseAmt Purchase_Prod_ID  CustomerTier CustomerTier2  \n",
       "0          New          10.5000       C.A. 29395             2           F33  \n",
       "1  Reactivated          11.2417             2651             3           NaN  \n",
       "2     Existing           7.8792           330958             3           NaN  \n",
       "3          New          34.3750       W./C. 6608             3           NaN  \n",
       "4          New          25.4667             4133             3           NaN  "
      ]
     },
     "execution_count": 167,
     "metadata": {},
     "output_type": "execute_result"
    }
   ],
   "source": [
    "df.head()"
   ]
  },
  {
   "cell_type": "markdown",
   "id": "quantitative-hampshire",
   "metadata": {},
   "source": [
    "# EDA"
   ]
  },
  {
   "cell_type": "code",
   "execution_count": 168,
   "id": "tropical-stomach",
   "metadata": {
    "ExecuteTime": {
     "end_time": "2021-04-26T21:57:22.097161Z",
     "start_time": "2021-04-26T21:57:22.035327Z"
    }
   },
   "outputs": [
    {
     "data": {
      "text/html": [
       "<div>\n",
       "<style scoped>\n",
       "    .dataframe tbody tr th:only-of-type {\n",
       "        vertical-align: middle;\n",
       "    }\n",
       "\n",
       "    .dataframe tbody tr th {\n",
       "        vertical-align: top;\n",
       "    }\n",
       "\n",
       "    .dataframe thead th {\n",
       "        text-align: right;\n",
       "    }\n",
       "</style>\n",
       "<table border=\"1\" class=\"dataframe\">\n",
       "  <thead>\n",
       "    <tr style=\"text-align: right;\">\n",
       "      <th></th>\n",
       "      <th>Unnamed: 0</th>\n",
       "      <th>Rewards_Signup</th>\n",
       "      <th>Customer_ID</th>\n",
       "      <th>Age</th>\n",
       "      <th>Addtl_HH_size</th>\n",
       "      <th>LastPurchaseAmt</th>\n",
       "      <th>CustomerTier</th>\n",
       "    </tr>\n",
       "  </thead>\n",
       "  <tbody>\n",
       "    <tr>\n",
       "      <th>count</th>\n",
       "      <td>712.000000</td>\n",
       "      <td>712.000000</td>\n",
       "      <td>712.000000</td>\n",
       "      <td>580.000000</td>\n",
       "      <td>712.000000</td>\n",
       "      <td>712.000000</td>\n",
       "      <td>712.000000</td>\n",
       "    </tr>\n",
       "    <tr>\n",
       "      <th>mean</th>\n",
       "      <td>355.500000</td>\n",
       "      <td>0.386236</td>\n",
       "      <td>442.853933</td>\n",
       "      <td>29.487931</td>\n",
       "      <td>0.918539</td>\n",
       "      <td>33.270487</td>\n",
       "      <td>2.299157</td>\n",
       "    </tr>\n",
       "    <tr>\n",
       "      <th>std</th>\n",
       "      <td>205.680983</td>\n",
       "      <td>0.487228</td>\n",
       "      <td>252.897790</td>\n",
       "      <td>14.422576</td>\n",
       "      <td>1.624044</td>\n",
       "      <td>52.709774</td>\n",
       "      <td>0.839663</td>\n",
       "    </tr>\n",
       "    <tr>\n",
       "      <th>min</th>\n",
       "      <td>0.000000</td>\n",
       "      <td>0.000000</td>\n",
       "      <td>1.000000</td>\n",
       "      <td>0.420000</td>\n",
       "      <td>0.000000</td>\n",
       "      <td>0.000000</td>\n",
       "      <td>1.000000</td>\n",
       "    </tr>\n",
       "    <tr>\n",
       "      <th>25%</th>\n",
       "      <td>177.750000</td>\n",
       "      <td>0.000000</td>\n",
       "      <td>225.750000</td>\n",
       "      <td>20.875000</td>\n",
       "      <td>0.000000</td>\n",
       "      <td>7.925000</td>\n",
       "      <td>2.000000</td>\n",
       "    </tr>\n",
       "    <tr>\n",
       "      <th>50%</th>\n",
       "      <td>355.500000</td>\n",
       "      <td>0.000000</td>\n",
       "      <td>443.500000</td>\n",
       "      <td>28.000000</td>\n",
       "      <td>0.000000</td>\n",
       "      <td>14.454200</td>\n",
       "      <td>3.000000</td>\n",
       "    </tr>\n",
       "    <tr>\n",
       "      <th>75%</th>\n",
       "      <td>533.250000</td>\n",
       "      <td>1.000000</td>\n",
       "      <td>660.250000</td>\n",
       "      <td>37.000000</td>\n",
       "      <td>1.000000</td>\n",
       "      <td>31.275000</td>\n",
       "      <td>3.000000</td>\n",
       "    </tr>\n",
       "    <tr>\n",
       "      <th>max</th>\n",
       "      <td>711.000000</td>\n",
       "      <td>1.000000</td>\n",
       "      <td>889.000000</td>\n",
       "      <td>80.000000</td>\n",
       "      <td>10.000000</td>\n",
       "      <td>512.329200</td>\n",
       "      <td>3.000000</td>\n",
       "    </tr>\n",
       "  </tbody>\n",
       "</table>\n",
       "</div>"
      ],
      "text/plain": [
       "       Unnamed: 0  Rewards_Signup  Customer_ID         Age  Addtl_HH_size  \\\n",
       "count  712.000000      712.000000   712.000000  580.000000     712.000000   \n",
       "mean   355.500000        0.386236   442.853933   29.487931       0.918539   \n",
       "std    205.680983        0.487228   252.897790   14.422576       1.624044   \n",
       "min      0.000000        0.000000     1.000000    0.420000       0.000000   \n",
       "25%    177.750000        0.000000   225.750000   20.875000       0.000000   \n",
       "50%    355.500000        0.000000   443.500000   28.000000       0.000000   \n",
       "75%    533.250000        1.000000   660.250000   37.000000       1.000000   \n",
       "max    711.000000        1.000000   889.000000   80.000000      10.000000   \n",
       "\n",
       "       LastPurchaseAmt  CustomerTier  \n",
       "count       712.000000    712.000000  \n",
       "mean         33.270487      2.299157  \n",
       "std          52.709774      0.839663  \n",
       "min           0.000000      1.000000  \n",
       "25%           7.925000      2.000000  \n",
       "50%          14.454200      3.000000  \n",
       "75%          31.275000      3.000000  \n",
       "max         512.329200      3.000000  "
      ]
     },
     "execution_count": 168,
     "metadata": {},
     "output_type": "execute_result"
    }
   ],
   "source": [
    "df.describe()"
   ]
  },
  {
   "cell_type": "markdown",
   "id": "violent-criminal",
   "metadata": {},
   "source": [
    "## Exploring Columns"
   ]
  },
  {
   "cell_type": "code",
   "execution_count": 169,
   "id": "bronze-arrow",
   "metadata": {
    "ExecuteTime": {
     "end_time": "2021-04-26T21:57:22.476582Z",
     "start_time": "2021-04-26T21:57:22.470660Z"
    }
   },
   "outputs": [
    {
     "data": {
      "text/plain": [
       "0    437\n",
       "1    275\n",
       "Name: Rewards_Signup, dtype: int64"
      ]
     },
     "execution_count": 169,
     "metadata": {},
     "output_type": "execute_result"
    }
   ],
   "source": [
    "df['Rewards_Signup'].value_counts()"
   ]
  },
  {
   "cell_type": "markdown",
   "id": "czech-dream",
   "metadata": {},
   "source": [
    "The rewards signup is the target, so these might need to be balanced. First I'll just be keeping track to precision and recall. If the classification models start being severely skewed toward predicting 0, I'll balance the classes."
   ]
  },
  {
   "cell_type": "code",
   "execution_count": 170,
   "id": "elect-router",
   "metadata": {
    "ExecuteTime": {
     "end_time": "2021-04-26T21:57:22.824899Z",
     "start_time": "2021-04-26T21:57:22.817035Z"
    }
   },
   "outputs": [
    {
     "name": "stdout",
     "output_type": "stream",
     "text": [
      "There are  712 unique customer IDs\n"
     ]
    }
   ],
   "source": [
    "print(\"There are \", len(df['Customer_ID'].unique()), \"unique customer IDs\")"
   ]
  },
  {
   "cell_type": "code",
   "execution_count": 171,
   "id": "controlling-aluminum",
   "metadata": {
    "ExecuteTime": {
     "end_time": "2021-04-26T21:57:23.640565Z",
     "start_time": "2021-04-26T21:57:23.209965Z"
    }
   },
   "outputs": [
    {
     "data": {
      "text/plain": [
       "<matplotlib.axes._subplots.AxesSubplot at 0x7f86a4348cc0>"
      ]
     },
     "execution_count": 171,
     "metadata": {},
     "output_type": "execute_result"
    },
    {
     "data": {
      "image/png": "[encoded data removed]",
      "text/plain": [
       "<Figure size 432x288 with 1 Axes>"
      ]
     },
     "metadata": {
      "needs_background": "light"
     },
     "output_type": "display_data"
    }
   ],
   "source": [
    "df['Age'].plot.hist()"
   ]
  },
  {
   "cell_type": "code",
   "execution_count": 172,
   "id": "industrial-protein",
   "metadata": {
    "ExecuteTime": {
     "end_time": "2021-04-26T21:57:23.982431Z",
     "start_time": "2021-04-26T21:57:23.969904Z"
    }
   },
   "outputs": [
    {
     "data": {
      "text/plain": [
       "93"
      ]
     },
     "execution_count": 172,
     "metadata": {},
     "output_type": "execute_result"
    }
   ],
   "source": [
    "len(df[df['Age'] < 18])"
   ]
  },
  {
   "cell_type": "markdown",
   "id": "above-packet",
   "metadata": {},
   "source": [
    "I'm assuming that inputs under 18 are mistakes, since to sign up for rewards programs customers typically have to be 18 and over. These values will be removed."
   ]
  },
  {
   "cell_type": "code",
   "execution_count": 173,
   "id": "downtown-tampa",
   "metadata": {
    "ExecuteTime": {
     "end_time": "2021-04-26T21:57:24.371127Z",
     "start_time": "2021-04-26T21:57:24.361323Z"
    }
   },
   "outputs": [
    {
     "data": {
      "text/plain": [
       "male      460\n",
       "female    252\n",
       "Name: Sex, dtype: int64"
      ]
     },
     "execution_count": 173,
     "metadata": {},
     "output_type": "execute_result"
    }
   ],
   "source": [
    "df['Sex'].value_counts()"
   ]
  },
  {
   "cell_type": "code",
   "execution_count": 174,
   "id": "subject-candle",
   "metadata": {
    "ExecuteTime": {
     "end_time": "2021-04-26T21:57:24.907727Z",
     "start_time": "2021-04-26T21:57:24.732729Z"
    }
   },
   "outputs": [
    {
     "data": {
      "text/plain": [
       "<matplotlib.axes._subplots.AxesSubplot at 0x7f86a38e7978>"
      ]
     },
     "execution_count": 174,
     "metadata": {},
     "output_type": "execute_result"
    },
    {
     "data": {
      "image/png": "[encoded data removed]",
      "text/plain": [
       "<Figure size 432x288 with 1 Axes>"
      ]
     },
     "metadata": {
      "needs_background": "light"
     },
     "output_type": "display_data"
    }
   ],
   "source": [
    "df['Addtl_HH_size'].plot.hist()"
   ]
  },
  {
   "cell_type": "code",
   "execution_count": 175,
   "id": "through-dependence",
   "metadata": {
    "ExecuteTime": {
     "end_time": "2021-04-26T21:57:25.240954Z",
     "start_time": "2021-04-26T21:57:25.226279Z"
    }
   },
   "outputs": [
    {
     "data": {
      "text/plain": [
       "New            518\n",
       "Reactivated    134\n",
       "Existing        58\n",
       "Name: CustomerType, dtype: int64"
      ]
     },
     "execution_count": 175,
     "metadata": {},
     "output_type": "execute_result"
    }
   ],
   "source": [
    "df['CustomerType'].value_counts()"
   ]
  },
  {
   "cell_type": "code",
   "execution_count": 176,
   "id": "comprehensive-mississippi",
   "metadata": {
    "ExecuteTime": {
     "end_time": "2021-04-26T21:57:25.764485Z",
     "start_time": "2021-04-26T21:57:25.567158Z"
    }
   },
   "outputs": [
    {
     "data": {
      "text/plain": [
       "<matplotlib.axes._subplots.AxesSubplot at 0x7f86a43cfd30>"
      ]
     },
     "execution_count": 176,
     "metadata": {},
     "output_type": "execute_result"
    },
    {
     "data": {
      "image/png": "[encoded data removed]",
      "text/plain": [
       "<Figure size 432x288 with 1 Axes>"
      ]
     },
     "metadata": {
      "needs_background": "light"
     },
     "output_type": "display_data"
    }
   ],
   "source": [
    "df['LastPurchaseAmt'].plot.hist()"
   ]
  },
  {
   "cell_type": "code",
   "execution_count": 177,
   "id": "excessive-vacuum",
   "metadata": {
    "ExecuteTime": {
     "end_time": "2021-04-26T21:57:26.154130Z",
     "start_time": "2021-04-26T21:57:26.136971Z"
    }
   },
   "outputs": [
    {
     "data": {
      "text/html": [
       "<div>\n",
       "<style scoped>\n",
       "    .dataframe tbody tr th:only-of-type {\n",
       "        vertical-align: middle;\n",
       "    }\n",
       "\n",
       "    .dataframe tbody tr th {\n",
       "        vertical-align: top;\n",
       "    }\n",
       "\n",
       "    .dataframe thead th {\n",
       "        text-align: right;\n",
       "    }\n",
       "</style>\n",
       "<table border=\"1\" class=\"dataframe\">\n",
       "  <thead>\n",
       "    <tr style=\"text-align: right;\">\n",
       "      <th></th>\n",
       "      <th>Unnamed: 0</th>\n",
       "      <th>Rewards_Signup</th>\n",
       "      <th>Customer_ID</th>\n",
       "      <th>Age</th>\n",
       "      <th>Sex</th>\n",
       "      <th>Addtl_HH_size</th>\n",
       "      <th>CustomerType</th>\n",
       "      <th>LastPurchaseAmt</th>\n",
       "      <th>Purchase_Prod_ID</th>\n",
       "      <th>CustomerTier</th>\n",
       "      <th>CustomerTier2</th>\n",
       "    </tr>\n",
       "  </thead>\n",
       "  <tbody>\n",
       "    <tr>\n",
       "      <th>58</th>\n",
       "      <td>58</td>\n",
       "      <td>1</td>\n",
       "      <td>259</td>\n",
       "      <td>35.0</td>\n",
       "      <td>female</td>\n",
       "      <td>0</td>\n",
       "      <td>Reactivated</td>\n",
       "      <td>512.3292</td>\n",
       "      <td>PC 17755</td>\n",
       "      <td>1</td>\n",
       "      <td>NaN</td>\n",
       "    </tr>\n",
       "    <tr>\n",
       "      <th>411</th>\n",
       "      <td>411</td>\n",
       "      <td>1</td>\n",
       "      <td>680</td>\n",
       "      <td>36.0</td>\n",
       "      <td>male</td>\n",
       "      <td>1</td>\n",
       "      <td>Reactivated</td>\n",
       "      <td>512.3292</td>\n",
       "      <td>PC 17755</td>\n",
       "      <td>1</td>\n",
       "      <td>B51 B53 B55</td>\n",
       "    </tr>\n",
       "    <tr>\n",
       "      <th>660</th>\n",
       "      <td>660</td>\n",
       "      <td>1</td>\n",
       "      <td>738</td>\n",
       "      <td>35.0</td>\n",
       "      <td>male</td>\n",
       "      <td>0</td>\n",
       "      <td>Reactivated</td>\n",
       "      <td>512.3292</td>\n",
       "      <td>PC 17755</td>\n",
       "      <td>1</td>\n",
       "      <td>B101</td>\n",
       "    </tr>\n",
       "  </tbody>\n",
       "</table>\n",
       "</div>"
      ],
      "text/plain": [
       "     Unnamed: 0  Rewards_Signup  Customer_ID   Age     Sex  Addtl_HH_size  \\\n",
       "58           58               1          259  35.0  female              0   \n",
       "411         411               1          680  36.0    male              1   \n",
       "660         660               1          738  35.0    male              0   \n",
       "\n",
       "    CustomerType  LastPurchaseAmt Purchase_Prod_ID  CustomerTier CustomerTier2  \n",
       "58   Reactivated         512.3292         PC 17755             1           NaN  \n",
       "411  Reactivated         512.3292         PC 17755             1   B51 B53 B55  \n",
       "660  Reactivated         512.3292         PC 17755             1          B101  "
      ]
     },
     "execution_count": 177,
     "metadata": {},
     "output_type": "execute_result"
    }
   ],
   "source": [
    "df[df['LastPurchaseAmt'] > 400]"
   ]
  },
  {
   "cell_type": "markdown",
   "id": "strange-chassis",
   "metadata": {},
   "source": [
    "It's possible that the customers who spent over $400 in their last purchase are outliers. It should also be noted that they all bought the same thing. For now I'll keep them, since they are three different customers and since paying a significant amount could indicate that they're more likely to sign up for rewards."
   ]
  },
  {
   "cell_type": "code",
   "execution_count": 178,
   "id": "dominican-manner",
   "metadata": {
    "ExecuteTime": {
     "end_time": "2021-04-26T21:57:26.527023Z",
     "start_time": "2021-04-26T21:57:26.515875Z"
    }
   },
   "outputs": [
    {
     "name": "stdout",
     "output_type": "stream",
     "text": [
      "There are  569 unique product IDs\n"
     ]
    }
   ],
   "source": [
    "print('There are ', len(df.Purchase_Prod_ID.unique()), 'unique product IDs')"
   ]
  },
  {
   "cell_type": "markdown",
   "id": "satellite-bermuda",
   "metadata": {
    "ExecuteTime": {
     "end_time": "2021-04-26T16:36:47.474074Z",
     "start_time": "2021-04-26T16:36:47.468438Z"
    }
   },
   "source": [
    "This many unique values compared to total rows could lead to overfitting, so I'll be removing this row."
   ]
  },
  {
   "cell_type": "code",
   "execution_count": 179,
   "id": "plain-engineer",
   "metadata": {
    "ExecuteTime": {
     "end_time": "2021-04-26T21:57:26.879758Z",
     "start_time": "2021-04-26T21:57:26.874519Z"
    }
   },
   "outputs": [
    {
     "data": {
      "text/plain": [
       "3    389\n",
       "1    176\n",
       "2    147\n",
       "Name: CustomerTier, dtype: int64"
      ]
     },
     "execution_count": 179,
     "metadata": {},
     "output_type": "execute_result"
    }
   ],
   "source": [
    "df['CustomerTier'].value_counts()"
   ]
  },
  {
   "cell_type": "code",
   "execution_count": 180,
   "id": "hungarian-donor",
   "metadata": {
    "ExecuteTime": {
     "end_time": "2021-04-26T21:57:27.218714Z",
     "start_time": "2021-04-26T21:57:27.206574Z"
    }
   },
   "outputs": [
    {
     "name": "stdout",
     "output_type": "stream",
     "text": [
      "There are 129 unique CustomerTier2 values and 546 nan values.\n"
     ]
    }
   ],
   "source": [
    "print('There are', len(df['CustomerTier2'].unique()), 'unique CustomerTier2 values and', df['CustomerTier2'].isna().sum(), 'nan values.') "
   ]
  },
  {
   "cell_type": "markdown",
   "id": "systematic-shadow",
   "metadata": {
    "ExecuteTime": {
     "end_time": "2021-04-26T16:40:28.090686Z",
     "start_time": "2021-04-26T16:40:28.083764Z"
    }
   },
   "source": [
    "This many nan values and so many unique values will lead to overfitting and/or having to remove too many rows from the data set, so I won't be using CustomerTier2 as a feature."
   ]
  },
  {
   "cell_type": "markdown",
   "id": "pharmaceutical-opportunity",
   "metadata": {},
   "source": [
    "# Cleaning"
   ]
  },
  {
   "cell_type": "code",
   "execution_count": 181,
   "id": "sonic-representation",
   "metadata": {
    "ExecuteTime": {
     "end_time": "2021-04-26T21:57:27.593745Z",
     "start_time": "2021-04-26T21:57:27.577559Z"
    }
   },
   "outputs": [
    {
     "data": {
      "text/html": [
       "<div>\n",
       "<style scoped>\n",
       "    .dataframe tbody tr th:only-of-type {\n",
       "        vertical-align: middle;\n",
       "    }\n",
       "\n",
       "    .dataframe tbody tr th {\n",
       "        vertical-align: top;\n",
       "    }\n",
       "\n",
       "    .dataframe thead th {\n",
       "        text-align: right;\n",
       "    }\n",
       "</style>\n",
       "<table border=\"1\" class=\"dataframe\">\n",
       "  <thead>\n",
       "    <tr style=\"text-align: right;\">\n",
       "      <th></th>\n",
       "      <th>Unnamed: 0</th>\n",
       "      <th>Rewards_Signup</th>\n",
       "      <th>Customer_ID</th>\n",
       "      <th>Age</th>\n",
       "      <th>Sex</th>\n",
       "      <th>Addtl_HH_size</th>\n",
       "      <th>CustomerType</th>\n",
       "      <th>LastPurchaseAmt</th>\n",
       "      <th>Purchase_Prod_ID</th>\n",
       "      <th>CustomerTier</th>\n",
       "      <th>CustomerTier2</th>\n",
       "    </tr>\n",
       "  </thead>\n",
       "  <tbody>\n",
       "    <tr>\n",
       "      <th>0</th>\n",
       "      <td>0</td>\n",
       "      <td>1</td>\n",
       "      <td>67</td>\n",
       "      <td>29.0</td>\n",
       "      <td>female</td>\n",
       "      <td>0</td>\n",
       "      <td>New</td>\n",
       "      <td>10.5000</td>\n",
       "      <td>C.A. 29395</td>\n",
       "      <td>2</td>\n",
       "      <td>F33</td>\n",
       "    </tr>\n",
       "    <tr>\n",
       "      <th>1</th>\n",
       "      <td>1</td>\n",
       "      <td>1</td>\n",
       "      <td>40</td>\n",
       "      <td>14.0</td>\n",
       "      <td>female</td>\n",
       "      <td>1</td>\n",
       "      <td>Reactivated</td>\n",
       "      <td>11.2417</td>\n",
       "      <td>2651</td>\n",
       "      <td>3</td>\n",
       "      <td>NaN</td>\n",
       "    </tr>\n",
       "    <tr>\n",
       "      <th>2</th>\n",
       "      <td>2</td>\n",
       "      <td>1</td>\n",
       "      <td>45</td>\n",
       "      <td>19.0</td>\n",
       "      <td>female</td>\n",
       "      <td>0</td>\n",
       "      <td>Existing</td>\n",
       "      <td>7.8792</td>\n",
       "      <td>330958</td>\n",
       "      <td>3</td>\n",
       "      <td>NaN</td>\n",
       "    </tr>\n",
       "    <tr>\n",
       "      <th>3</th>\n",
       "      <td>3</td>\n",
       "      <td>0</td>\n",
       "      <td>87</td>\n",
       "      <td>16.0</td>\n",
       "      <td>male</td>\n",
       "      <td>4</td>\n",
       "      <td>New</td>\n",
       "      <td>34.3750</td>\n",
       "      <td>W./C. 6608</td>\n",
       "      <td>3</td>\n",
       "      <td>NaN</td>\n",
       "    </tr>\n",
       "    <tr>\n",
       "      <th>4</th>\n",
       "      <td>4</td>\n",
       "      <td>0</td>\n",
       "      <td>486</td>\n",
       "      <td>NaN</td>\n",
       "      <td>female</td>\n",
       "      <td>4</td>\n",
       "      <td>New</td>\n",
       "      <td>25.4667</td>\n",
       "      <td>4133</td>\n",
       "      <td>3</td>\n",
       "      <td>NaN</td>\n",
       "    </tr>\n",
       "  </tbody>\n",
       "</table>\n",
       "</div>"
      ],
      "text/plain": [
       "   Unnamed: 0  Rewards_Signup  Customer_ID   Age     Sex  Addtl_HH_size  \\\n",
       "0           0               1           67  29.0  female              0   \n",
       "1           1               1           40  14.0  female              1   \n",
       "2           2               1           45  19.0  female              0   \n",
       "3           3               0           87  16.0    male              4   \n",
       "4           4               0          486   NaN  female              4   \n",
       "\n",
       "  CustomerType  LastPurchaseAmt Purchase_Prod_ID  CustomerTier CustomerTier2  \n",
       "0          New          10.5000       C.A. 29395             2           F33  \n",
       "1  Reactivated          11.2417             2651             3           NaN  \n",
       "2     Existing           7.8792           330958             3           NaN  \n",
       "3          New          34.3750       W./C. 6608             3           NaN  \n",
       "4          New          25.4667             4133             3           NaN  "
      ]
     },
     "execution_count": 181,
     "metadata": {},
     "output_type": "execute_result"
    }
   ],
   "source": [
    "df.head()"
   ]
  },
  {
   "cell_type": "markdown",
   "id": "japanese-basement",
   "metadata": {},
   "source": [
    "## Make sure there are no repeat customer IDs"
   ]
  },
  {
   "cell_type": "code",
   "execution_count": 182,
   "id": "standard-machine",
   "metadata": {
    "ExecuteTime": {
     "end_time": "2021-04-26T21:57:27.981406Z",
     "start_time": "2021-04-26T21:57:27.948979Z"
    }
   },
   "outputs": [],
   "source": [
    "# Remove Customer ID duplicates from train data\n",
    "df.drop_duplicates(subset='Customer_ID', keep='first', inplace=True)\n",
    "\n",
    "# Remove Customer ID duplicates from test data\n",
    "df_test.drop_duplicates(subset='Customer_ID', keep='first', inplace=True)"
   ]
  },
  {
   "cell_type": "code",
   "execution_count": 183,
   "id": "wooden-compatibility",
   "metadata": {
    "ExecuteTime": {
     "end_time": "2021-04-26T21:57:28.349368Z",
     "start_time": "2021-04-26T21:57:28.343987Z"
    }
   },
   "outputs": [
    {
     "data": {
      "text/plain": [
       "(712, 11)"
      ]
     },
     "execution_count": 183,
     "metadata": {},
     "output_type": "execute_result"
    }
   ],
   "source": [
    "df.shape"
   ]
  },
  {
   "cell_type": "markdown",
   "id": "prerequisite-amsterdam",
   "metadata": {},
   "source": [
    "## Remove Unnecessary Columns"
   ]
  },
  {
   "cell_type": "code",
   "execution_count": 184,
   "id": "returning-thinking",
   "metadata": {
    "ExecuteTime": {
     "end_time": "2021-04-26T21:57:28.714210Z",
     "start_time": "2021-04-26T21:57:28.688829Z"
    }
   },
   "outputs": [],
   "source": [
    "# Remove product ID column and customertier2 from train data.\n",
    "df.drop(columns=['Unnamed: 0', 'Purchase_Prod_ID', 'CustomerTier2', 'Customer_ID'], inplace=True)\n",
    "\n",
    "# Remove product ID column and customertier2 from test data.\n",
    "df_test.drop(columns=['Unnamed: 0', 'Purchase_Prod_ID', 'CustomerTier2', 'Customer_ID'], inplace=True)"
   ]
  },
  {
   "cell_type": "code",
   "execution_count": 185,
   "id": "liberal-fighter",
   "metadata": {
    "ExecuteTime": {
     "end_time": "2021-04-26T21:57:29.064082Z",
     "start_time": "2021-04-26T21:57:29.058084Z"
    }
   },
   "outputs": [
    {
     "data": {
      "text/plain": [
       "(712, 7)"
      ]
     },
     "execution_count": 185,
     "metadata": {},
     "output_type": "execute_result"
    }
   ],
   "source": [
    "df.shape"
   ]
  },
  {
   "cell_type": "markdown",
   "id": "searching-accordance",
   "metadata": {},
   "source": [
    "## Turn ages under 18 to nan, and then remove nan values"
   ]
  },
  {
   "cell_type": "code",
   "execution_count": 186,
   "id": "interracial-population",
   "metadata": {
    "ExecuteTime": {
     "end_time": "2021-04-26T21:57:29.379017Z",
     "start_time": "2021-04-26T21:57:29.364694Z"
    }
   },
   "outputs": [],
   "source": [
    "# Remove Age null values and Age values less than 18 from train data\n",
    "df = df[df.Age > 17]\n",
    "\n",
    "# Remove Age null values and Age values less than 18 from test data\n",
    "df_test = df_test[df_test.Age > 17]"
   ]
  },
  {
   "cell_type": "code",
   "execution_count": 187,
   "id": "exact-parts",
   "metadata": {
    "ExecuteTime": {
     "end_time": "2021-04-26T21:57:30.845564Z",
     "start_time": "2021-04-26T21:57:30.834460Z"
    }
   },
   "outputs": [
    {
     "data": {
      "text/plain": [
       "(487, 7)"
      ]
     },
     "execution_count": 187,
     "metadata": {},
     "output_type": "execute_result"
    }
   ],
   "source": [
    "df.shape"
   ]
  },
  {
   "cell_type": "markdown",
   "id": "strange-career",
   "metadata": {},
   "source": [
    "# Further EDA"
   ]
  },
  {
   "cell_type": "code",
   "execution_count": 147,
   "id": "small-morgan",
   "metadata": {
    "ExecuteTime": {
     "end_time": "2021-04-26T18:44:42.663619Z",
     "start_time": "2021-04-26T18:44:34.168472Z"
    }
   },
   "outputs": [
    {
     "data": {
      "text/plain": [
       "<seaborn.axisgrid.PairGrid at 0x7f869ef9cf98>"
      ]
     },
     "execution_count": 147,
     "metadata": {},
     "output_type": "execute_result"
    },
    {
     "data": {
      "image/png": "[encoded data removed]",
      "text/plain": [
       "<Figure size 900x900 with 30 Axes>"
      ]
     },
     "metadata": {
      "needs_background": "light"
     },
     "output_type": "display_data"
    }
   ],
   "source": [
    "sns.pairplot(df)"
   ]
  },
  {
   "cell_type": "code",
   "execution_count": 148,
   "id": "dense-mercy",
   "metadata": {
    "ExecuteTime": {
     "end_time": "2021-04-26T18:44:46.498080Z",
     "start_time": "2021-04-26T18:44:46.173961Z"
    }
   },
   "outputs": [
    {
     "data": {
      "image/png": "[encoded data removed]",
      "text/plain": [
       "<Figure size 2160x2160 with 2 Axes>"
      ]
     },
     "metadata": {
      "needs_background": "light"
     },
     "output_type": "display_data"
    }
   ],
   "source": [
    "# Plot all correlations\n",
    "fig, ax = plt.subplots(figsize=(30, 30))\n",
    "\n",
    "sns.heatmap(df.corr(), cmap=\"seismic\", annot=False, vmin=-1, vmax=1);\n",
    "\n",
    "plt.show()"
   ]
  },
  {
   "cell_type": "markdown",
   "id": "linear-celebrity",
   "metadata": {},
   "source": [
    "To note: \n",
    "* The target is highly negatively correlated with the CustomerTier.\n",
    "* The CustomerTier is highly negatively correlated with the target, Age, and LastPurchaseAmount (especially LastPurchaseAmount)."
   ]
  },
  {
   "cell_type": "markdown",
   "id": "liquid-agency",
   "metadata": {},
   "source": [
    "# Get Dummies Encoding"
   ]
  },
  {
   "cell_type": "code",
   "execution_count": 188,
   "id": "pleasant-imperial",
   "metadata": {
    "ExecuteTime": {
     "end_time": "2021-04-26T21:57:36.648563Z",
     "start_time": "2021-04-26T21:57:36.625033Z"
    }
   },
   "outputs": [],
   "source": [
    "# Encode sex. Male = 1, and Female = 0.\n",
    "df['Sex'] = pd.get_dummies(df.Sex, drop_first=True)\n",
    "\n",
    "# Encode sex. Male = 1, and Female = 0.\n",
    "df_test['Sex'] = pd.get_dummies(df_test.Sex, drop_first=True)"
   ]
  },
  {
   "cell_type": "code",
   "execution_count": 189,
   "id": "general-entrepreneur",
   "metadata": {
    "ExecuteTime": {
     "end_time": "2021-04-26T21:57:37.020604Z",
     "start_time": "2021-04-26T21:57:36.999812Z"
    }
   },
   "outputs": [],
   "source": [
    "# Encode Customer Type. 0 and 0 in New and Reactivated indicates Existing\n",
    "df['New'] = pd.get_dummies(df.CustomerType, drop_first=True).New\n",
    "\n",
    "# Encode Customer Type. 0 and 0 in New and Reactivated indicates Existing\n",
    "df_test['New'] = pd.get_dummies(df_test.CustomerType, drop_first=True).New"
   ]
  },
  {
   "cell_type": "code",
   "execution_count": 190,
   "id": "metric-purple",
   "metadata": {
    "ExecuteTime": {
     "end_time": "2021-04-26T21:57:37.356980Z",
     "start_time": "2021-04-26T21:57:37.337027Z"
    }
   },
   "outputs": [],
   "source": [
    "# Encode Customer Type. 0 and 0 in New and Reactivated indicates Existing\n",
    "df['Reactivated'] = pd.get_dummies(df.CustomerType, drop_first=True).Reactivated\n",
    "\n",
    "# Encode Customer Type. 0 and 0 in New and Reactivated indicates Existing\n",
    "df_test['Reactivated'] = pd.get_dummies(df_test.CustomerType, drop_first=True).Reactivated"
   ]
  },
  {
   "cell_type": "code",
   "execution_count": 191,
   "id": "transparent-toyota",
   "metadata": {
    "ExecuteTime": {
     "end_time": "2021-04-26T21:57:37.741361Z",
     "start_time": "2021-04-26T21:57:37.733919Z"
    }
   },
   "outputs": [],
   "source": [
    "df.drop(columns=['CustomerType'], inplace=True)\n",
    "df_test.drop(columns=['CustomerType'], inplace=True)"
   ]
  },
  {
   "cell_type": "markdown",
   "id": "tough-housing",
   "metadata": {
    "ExecuteTime": {
     "end_time": "2021-04-26T17:34:10.983889Z",
     "start_time": "2021-04-26T17:34:10.980825Z"
    }
   },
   "source": [
    "# VIF"
   ]
  },
  {
   "cell_type": "markdown",
   "id": "final-graham",
   "metadata": {},
   "source": [
    "VIF score of an independent variable represents how well the variable is explained by other independent variables."
   ]
  },
  {
   "cell_type": "code",
   "execution_count": 192,
   "id": "hourly-champion",
   "metadata": {
    "ExecuteTime": {
     "end_time": "2021-04-26T21:57:39.999931Z",
     "start_time": "2021-04-26T21:57:39.987834Z"
    }
   },
   "outputs": [],
   "source": [
    "from statsmodels.stats.outliers_influence import variance_inflation_factor"
   ]
  },
  {
   "cell_type": "code",
   "execution_count": 193,
   "id": "moral-monthly",
   "metadata": {
    "ExecuteTime": {
     "end_time": "2021-04-26T21:57:40.353996Z",
     "start_time": "2021-04-26T21:57:40.344432Z"
    }
   },
   "outputs": [],
   "source": [
    "def calc_vif(X):\n",
    "\n",
    "    # Calculating VIF\n",
    "    vif = pd.DataFrame()\n",
    "    vif[\"variables\"] = X.columns\n",
    "    vif[\"VIF\"] = [variance_inflation_factor(X.values, i) for i in range(X.shape[1])]\n",
    "\n",
    "    return(vif)"
   ]
  },
  {
   "cell_type": "code",
   "execution_count": 194,
   "id": "discrete-story",
   "metadata": {
    "ExecuteTime": {
     "end_time": "2021-04-26T21:57:40.709813Z",
     "start_time": "2021-04-26T21:57:40.661354Z"
    }
   },
   "outputs": [
    {
     "data": {
      "text/html": [
       "<div>\n",
       "<style scoped>\n",
       "    .dataframe tbody tr th:only-of-type {\n",
       "        vertical-align: middle;\n",
       "    }\n",
       "\n",
       "    .dataframe tbody tr th {\n",
       "        vertical-align: top;\n",
       "    }\n",
       "\n",
       "    .dataframe thead th {\n",
       "        text-align: right;\n",
       "    }\n",
       "</style>\n",
       "<table border=\"1\" class=\"dataframe\">\n",
       "  <thead>\n",
       "    <tr style=\"text-align: right;\">\n",
       "      <th></th>\n",
       "      <th>variables</th>\n",
       "      <th>VIF</th>\n",
       "    </tr>\n",
       "  </thead>\n",
       "  <tbody>\n",
       "    <tr>\n",
       "      <th>0</th>\n",
       "      <td>Rewards_Signup</td>\n",
       "      <td>2.148649</td>\n",
       "    </tr>\n",
       "    <tr>\n",
       "      <th>1</th>\n",
       "      <td>Age</td>\n",
       "      <td>5.803981</td>\n",
       "    </tr>\n",
       "    <tr>\n",
       "      <th>2</th>\n",
       "      <td>Sex</td>\n",
       "      <td>4.298033</td>\n",
       "    </tr>\n",
       "    <tr>\n",
       "      <th>3</th>\n",
       "      <td>Addtl_HH_size</td>\n",
       "      <td>1.594547</td>\n",
       "    </tr>\n",
       "    <tr>\n",
       "      <th>4</th>\n",
       "      <td>LastPurchaseAmt</td>\n",
       "      <td>1.889258</td>\n",
       "    </tr>\n",
       "    <tr>\n",
       "      <th>5</th>\n",
       "      <td>CustomerTier</td>\n",
       "      <td>6.158038</td>\n",
       "    </tr>\n",
       "    <tr>\n",
       "      <th>6</th>\n",
       "      <td>New</td>\n",
       "      <td>4.643150</td>\n",
       "    </tr>\n",
       "  </tbody>\n",
       "</table>\n",
       "</div>"
      ],
      "text/plain": [
       "         variables       VIF\n",
       "0   Rewards_Signup  2.148649\n",
       "1              Age  5.803981\n",
       "2              Sex  4.298033\n",
       "3    Addtl_HH_size  1.594547\n",
       "4  LastPurchaseAmt  1.889258\n",
       "5     CustomerTier  6.158038\n",
       "6              New  4.643150"
      ]
     },
     "execution_count": 194,
     "metadata": {},
     "output_type": "execute_result"
    }
   ],
   "source": [
    "X = df.iloc[:,:-1]\n",
    "calc_vif(X)"
   ]
  },
  {
   "cell_type": "markdown",
   "id": "right-grass",
   "metadata": {},
   "source": [
    "None of these values are over ten, meaning there isn't any significant multi-collinearity. This was important to test because I'll be using a logistic regression model with the intention of interpreting its coefficients, and if the features contained multi-collinearity it would not be possible to accurately interpret the coefficients."
   ]
  },
  {
   "cell_type": "markdown",
   "id": "functional-insured",
   "metadata": {},
   "source": [
    "# Save cleaned data as new files"
   ]
  },
  {
   "cell_type": "code",
   "execution_count": 195,
   "id": "common-heater",
   "metadata": {
    "ExecuteTime": {
     "end_time": "2021-04-26T21:57:48.033851Z",
     "start_time": "2021-04-26T21:57:48.011556Z"
    }
   },
   "outputs": [],
   "source": [
    "df.to_csv('train_df_cleaned.csv')\n",
    "df_test.to_csv('test_df_cleaned.csv')"
   ]
  },
  {
   "cell_type": "markdown",
   "id": "temporal-theology",
   "metadata": {},
   "source": [
    "# Balance Classes"
   ]
  },
  {
   "cell_type": "markdown",
   "id": "premium-nirvana",
   "metadata": {},
   "source": [
    "To balance the classes, I'm up-sampling the minority class. This artificially reduces the variance in the data, but down-sampling would remove too much data. "
   ]
  },
  {
   "cell_type": "code",
   "execution_count": 157,
   "id": "cloudy-madrid",
   "metadata": {
    "ExecuteTime": {
     "end_time": "2021-04-26T21:04:23.310944Z",
     "start_time": "2021-04-26T21:04:23.236936Z"
    }
   },
   "outputs": [],
   "source": [
    "from sklearn.utils import resample"
   ]
  },
  {
   "cell_type": "code",
   "execution_count": 158,
   "id": "blocked-merchandise",
   "metadata": {
    "ExecuteTime": {
     "end_time": "2021-04-26T21:04:49.783735Z",
     "start_time": "2021-04-26T21:04:49.722460Z"
    }
   },
   "outputs": [
    {
     "data": {
      "text/html": [
       "<div>\n",
       "<style scoped>\n",
       "    .dataframe tbody tr th:only-of-type {\n",
       "        vertical-align: middle;\n",
       "    }\n",
       "\n",
       "    .dataframe tbody tr th {\n",
       "        vertical-align: top;\n",
       "    }\n",
       "\n",
       "    .dataframe thead th {\n",
       "        text-align: right;\n",
       "    }\n",
       "</style>\n",
       "<table border=\"1\" class=\"dataframe\">\n",
       "  <thead>\n",
       "    <tr style=\"text-align: right;\">\n",
       "      <th></th>\n",
       "      <th>Rewards_Signup</th>\n",
       "      <th>Age</th>\n",
       "      <th>Sex</th>\n",
       "      <th>Addtl_HH_size</th>\n",
       "      <th>LastPurchaseAmt</th>\n",
       "      <th>CustomerTier</th>\n",
       "      <th>New</th>\n",
       "      <th>Reactivated</th>\n",
       "    </tr>\n",
       "  </thead>\n",
       "  <tbody>\n",
       "    <tr>\n",
       "      <th>0</th>\n",
       "      <td>1</td>\n",
       "      <td>29.0</td>\n",
       "      <td>0</td>\n",
       "      <td>0</td>\n",
       "      <td>10.5000</td>\n",
       "      <td>2</td>\n",
       "      <td>1</td>\n",
       "      <td>0</td>\n",
       "    </tr>\n",
       "    <tr>\n",
       "      <th>2</th>\n",
       "      <td>1</td>\n",
       "      <td>19.0</td>\n",
       "      <td>0</td>\n",
       "      <td>0</td>\n",
       "      <td>7.8792</td>\n",
       "      <td>3</td>\n",
       "      <td>0</td>\n",
       "      <td>0</td>\n",
       "    </tr>\n",
       "    <tr>\n",
       "      <th>6</th>\n",
       "      <td>0</td>\n",
       "      <td>25.0</td>\n",
       "      <td>1</td>\n",
       "      <td>0</td>\n",
       "      <td>7.0500</td>\n",
       "      <td>3</td>\n",
       "      <td>1</td>\n",
       "      <td>0</td>\n",
       "    </tr>\n",
       "    <tr>\n",
       "      <th>7</th>\n",
       "      <td>1</td>\n",
       "      <td>44.0</td>\n",
       "      <td>0</td>\n",
       "      <td>1</td>\n",
       "      <td>57.9792</td>\n",
       "      <td>1</td>\n",
       "      <td>0</td>\n",
       "      <td>1</td>\n",
       "    </tr>\n",
       "    <tr>\n",
       "      <th>8</th>\n",
       "      <td>1</td>\n",
       "      <td>32.0</td>\n",
       "      <td>1</td>\n",
       "      <td>0</td>\n",
       "      <td>7.9250</td>\n",
       "      <td>3</td>\n",
       "      <td>1</td>\n",
       "      <td>0</td>\n",
       "    </tr>\n",
       "  </tbody>\n",
       "</table>\n",
       "</div>"
      ],
      "text/plain": [
       "   Rewards_Signup   Age  Sex  Addtl_HH_size  LastPurchaseAmt  CustomerTier  \\\n",
       "0               1  29.0    0              0          10.5000             2   \n",
       "2               1  19.0    0              0           7.8792             3   \n",
       "6               0  25.0    1              0           7.0500             3   \n",
       "7               1  44.0    0              1          57.9792             1   \n",
       "8               1  32.0    1              0           7.9250             3   \n",
       "\n",
       "   New  Reactivated  \n",
       "0    1            0  \n",
       "2    0            0  \n",
       "6    1            0  \n",
       "7    0            1  \n",
       "8    1            0  "
      ]
     },
     "execution_count": 158,
     "metadata": {},
     "output_type": "execute_result"
    }
   ],
   "source": [
    "df.head()"
   ]
  },
  {
   "cell_type": "code",
   "execution_count": 159,
   "id": "favorite-blame",
   "metadata": {
    "ExecuteTime": {
     "end_time": "2021-04-26T21:06:03.776739Z",
     "start_time": "2021-04-26T21:06:03.726030Z"
    }
   },
   "outputs": [
    {
     "data": {
      "text/plain": [
       "0    302\n",
       "1    185\n",
       "Name: Rewards_Signup, dtype: int64"
      ]
     },
     "execution_count": 159,
     "metadata": {},
     "output_type": "execute_result"
    }
   ],
   "source": [
    "df.Rewards_Signup.value_counts()"
   ]
  },
  {
   "cell_type": "code",
   "execution_count": 161,
   "id": "critical-tractor",
   "metadata": {
    "ExecuteTime": {
     "end_time": "2021-04-26T21:07:46.571567Z",
     "start_time": "2021-04-26T21:07:46.548357Z"
    }
   },
   "outputs": [
    {
     "data": {
      "text/plain": [
       "1    302\n",
       "0    302\n",
       "Name: Rewards_Signup, dtype: int64"
      ]
     },
     "execution_count": 161,
     "metadata": {},
     "output_type": "execute_result"
    }
   ],
   "source": [
    "# Possibly need to do later\n",
    "# Without balanced classes, the frequent cases \n",
    "# (not signing up for rewards) will be misclassified less frequently than the infrequent cases\n",
    "\n",
    "df_majority = df[df.Rewards_Signup == 0]\n",
    "df_minority = df[df.Rewards_Signup == 1]\n",
    "\n",
    "# Upsample minority class\n",
    "df_minority_upsampled = resample(df_minority, \n",
    "                                 replace=True,     # sample with replacement\n",
    "                                 n_samples=302,    # to match majority class\n",
    "                                 random_state=123) # reproducible results\n",
    "\n",
    "df_upsampled = pd.concat([df_majority, df_minority_upsampled])\n",
    "\n",
    "df_upsampled.Rewards_Signup.value_counts()"
   ]
  },
  {
   "cell_type": "code",
   "execution_count": 162,
   "id": "suspected-offset",
   "metadata": {
    "ExecuteTime": {
     "end_time": "2021-04-26T21:07:59.362957Z",
     "start_time": "2021-04-26T21:07:59.359288Z"
    }
   },
   "outputs": [],
   "source": [
    "df = df_upsampled"
   ]
  }
 ],
 "metadata": {
  "kernelspec": {
   "display_name": "Python 3",
   "language": "python",
   "name": "python3"
  },
  "language_info": {
   "codemirror_mode": {
    "name": "ipython",
    "version": 3
   },
   "file_extension": ".py",
   "mimetype": "text/x-python",
   "name": "python",
   "nbconvert_exporter": "python",
   "pygments_lexer": "ipython3",
   "version": "3.6.13"
  },
  "toc": {
   "base_numbering": 1,
   "nav_menu": {},
   "number_sections": true,
   "sideBar": true,
   "skip_h1_title": false,
   "title_cell": "Table of Contents",
   "title_sidebar": "Contents",
   "toc_cell": false,
   "toc_position": {},
   "toc_section_display": true,
   "toc_window_display": true
  },
  "varInspector": {
   "cols": {
    "lenName": 16,
    "lenType": 16,
    "lenVar": 40
   },
   "kernels_config": {
    "python": {
     "delete_cmd_postfix": "",
     "delete_cmd_prefix": "del ",
     "library": "var_list.py",
     "varRefreshCmd": "print(var_dic_list())"
    },
    "r": {
     "delete_cmd_postfix": ") ",
     "delete_cmd_prefix": "rm(",
     "library": "var_list.r",
     "varRefreshCmd": "cat(var_dic_list()) "
    }
   },
   "types_to_exclude": [
    "module",
    "function",
    "builtin_function_or_method",
    "instance",
    "_Feature"
   ],
   "window_display": false
  }
 },
 "nbformat": 4,
 "nbformat_minor": 5
}
