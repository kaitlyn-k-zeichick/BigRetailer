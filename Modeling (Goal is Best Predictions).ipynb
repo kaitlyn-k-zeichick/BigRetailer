{
 "cells": [
  {
   "cell_type": "markdown",
   "id": "center-charity",
   "metadata": {},
   "source": [
    "# Summary"
   ]
  },
  {
   "cell_type": "markdown",
   "id": "inclusive-pottery",
   "metadata": {},
   "source": [
    "Tried several models, including logistic regression, a random forest model, and XGBoost. I optimized for accuracy, since it is the most interpretable, since the classes are balanced enough to do so, and since I don't need to prioritize recall or precision for any reason. I printed out other metrics to get a holistic sense of how each model was performing.\n",
    "\n",
    "The best model was XGBoost, with an accuracy of 84%. The final accuracy on the test data was 78%.\n",
    "\n",
    "After playing around with the features used in XGBoost, I realized that the only features contributing to the accuracy were Age, Sex, Addtl_HH_size, and LastPurchaseAmt."
   ]
  },
  {
   "cell_type": "markdown",
   "id": "parental-revision",
   "metadata": {},
   "source": [
    "# Import Libraries and Data"
   ]
  },
  {
   "cell_type": "code",
   "execution_count": 166,
   "id": "august-server",
   "metadata": {
    "ExecuteTime": {
     "end_time": "2021-04-26T21:58:04.424101Z",
     "start_time": "2021-04-26T21:58:04.400139Z"
    }
   },
   "outputs": [],
   "source": [
    "import pandas as pd\n",
    "\n",
    "# Prepping for modeling\n",
    "from sklearn.model_selection import train_test_split\n",
    "from sklearn.preprocessing import StandardScaler\n",
    "\n",
    "from sklearn.model_selection import cross_val_score\n",
    "\n",
    "# Creating models\n",
    "import statsmodels.api as sm\n",
    "from sklearn.linear_model import LogisticRegression\n",
    "from sklearn.neighbors import KNeighborsClassifier\n",
    "from sklearn.ensemble import RandomForestClassifier\n",
    "import xgboost as xgb\n",
    "from xgboost import XGBClassifier\n",
    "\n",
    "import matplotlib.pyplot as plt\n",
    "import seaborn as sns\n",
    "\n",
    "# Metrics\n",
    "from sklearn import metrics\n",
    "from sklearn.metrics import roc_auc_score, confusion_matrix, roc_curve\n",
    "from sklearn.metrics import precision_score, recall_score, precision_recall_curve,f1_score, fbeta_score\n",
    "from sklearn.metrics import accuracy_score"
   ]
  },
  {
   "cell_type": "code",
   "execution_count": 167,
   "id": "vulnerable-essex",
   "metadata": {
    "ExecuteTime": {
     "end_time": "2021-04-26T21:58:04.873310Z",
     "start_time": "2021-04-26T21:58:04.839180Z"
    }
   },
   "outputs": [],
   "source": [
    "df_train = pd.read_csv('train_df_cleaned.csv')\n",
    "df_test = pd.read_csv('test_df_cleaned.csv')"
   ]
  },
  {
   "cell_type": "code",
   "execution_count": 168,
   "id": "disciplinary-characteristic",
   "metadata": {
    "ExecuteTime": {
     "end_time": "2021-04-26T21:58:05.286577Z",
     "start_time": "2021-04-26T21:58:05.275456Z"
    }
   },
   "outputs": [],
   "source": [
    "df_train.drop(columns=['Unnamed: 0'], inplace = True)\n",
    "df_test.drop(columns=['Unnamed: 0'], inplace = True)"
   ]
  },
  {
   "cell_type": "code",
   "execution_count": 169,
   "id": "forty-opening",
   "metadata": {
    "ExecuteTime": {
     "end_time": "2021-04-26T21:58:05.709082Z",
     "start_time": "2021-04-26T21:58:05.699738Z"
    }
   },
   "outputs": [
    {
     "data": {
      "text/html": [
       "<div>\n",
       "<style scoped>\n",
       "    .dataframe tbody tr th:only-of-type {\n",
       "        vertical-align: middle;\n",
       "    }\n",
       "\n",
       "    .dataframe tbody tr th {\n",
       "        vertical-align: top;\n",
       "    }\n",
       "\n",
       "    .dataframe thead th {\n",
       "        text-align: right;\n",
       "    }\n",
       "</style>\n",
       "<table border=\"1\" class=\"dataframe\">\n",
       "  <thead>\n",
       "    <tr style=\"text-align: right;\">\n",
       "      <th></th>\n",
       "      <th>Rewards_Signup</th>\n",
       "      <th>Age</th>\n",
       "      <th>Sex</th>\n",
       "      <th>Addtl_HH_size</th>\n",
       "      <th>LastPurchaseAmt</th>\n",
       "      <th>CustomerTier</th>\n",
       "      <th>New</th>\n",
       "      <th>Reactivated</th>\n",
       "    </tr>\n",
       "  </thead>\n",
       "  <tbody>\n",
       "    <tr>\n",
       "      <th>0</th>\n",
       "      <td>1</td>\n",
       "      <td>29.0</td>\n",
       "      <td>0</td>\n",
       "      <td>0</td>\n",
       "      <td>10.5000</td>\n",
       "      <td>2</td>\n",
       "      <td>1</td>\n",
       "      <td>0</td>\n",
       "    </tr>\n",
       "    <tr>\n",
       "      <th>1</th>\n",
       "      <td>1</td>\n",
       "      <td>19.0</td>\n",
       "      <td>0</td>\n",
       "      <td>0</td>\n",
       "      <td>7.8792</td>\n",
       "      <td>3</td>\n",
       "      <td>0</td>\n",
       "      <td>0</td>\n",
       "    </tr>\n",
       "    <tr>\n",
       "      <th>2</th>\n",
       "      <td>0</td>\n",
       "      <td>25.0</td>\n",
       "      <td>1</td>\n",
       "      <td>0</td>\n",
       "      <td>7.0500</td>\n",
       "      <td>3</td>\n",
       "      <td>1</td>\n",
       "      <td>0</td>\n",
       "    </tr>\n",
       "    <tr>\n",
       "      <th>3</th>\n",
       "      <td>1</td>\n",
       "      <td>44.0</td>\n",
       "      <td>0</td>\n",
       "      <td>1</td>\n",
       "      <td>57.9792</td>\n",
       "      <td>1</td>\n",
       "      <td>0</td>\n",
       "      <td>1</td>\n",
       "    </tr>\n",
       "    <tr>\n",
       "      <th>4</th>\n",
       "      <td>1</td>\n",
       "      <td>32.0</td>\n",
       "      <td>1</td>\n",
       "      <td>0</td>\n",
       "      <td>7.9250</td>\n",
       "      <td>3</td>\n",
       "      <td>1</td>\n",
       "      <td>0</td>\n",
       "    </tr>\n",
       "  </tbody>\n",
       "</table>\n",
       "</div>"
      ],
      "text/plain": [
       "   Rewards_Signup   Age  Sex  Addtl_HH_size  LastPurchaseAmt  CustomerTier  \\\n",
       "0               1  29.0    0              0          10.5000             2   \n",
       "1               1  19.0    0              0           7.8792             3   \n",
       "2               0  25.0    1              0           7.0500             3   \n",
       "3               1  44.0    0              1          57.9792             1   \n",
       "4               1  32.0    1              0           7.9250             3   \n",
       "\n",
       "   New  Reactivated  \n",
       "0    1            0  \n",
       "1    0            0  \n",
       "2    1            0  \n",
       "3    0            1  \n",
       "4    1            0  "
      ]
     },
     "execution_count": 169,
     "metadata": {},
     "output_type": "execute_result"
    }
   ],
   "source": [
    "df_train.head()"
   ]
  },
  {
   "cell_type": "code",
   "execution_count": 191,
   "id": "faced-cotton",
   "metadata": {
    "ExecuteTime": {
     "end_time": "2021-04-26T22:11:01.356688Z",
     "start_time": "2021-04-26T22:11:01.349440Z"
    }
   },
   "outputs": [
    {
     "name": "stdout",
     "output_type": "stream",
     "text": [
      "The majority class makes up  62.01 % of the examples\n"
     ]
    }
   ],
   "source": [
    "print('The majority class makes up ', round(df_train.Rewards_Signup.value_counts()[0] / (df_train.Rewards_Signup.value_counts()[0] + df_train.Rewards_Signup.value_counts()[1]) * 100, 2), '% of the examples')     \n",
    "      "
   ]
  },
  {
   "cell_type": "markdown",
   "id": "dimensional-philip",
   "metadata": {},
   "source": [
    "Since the majority class doesn't make up more than 80% of the examples in the target variable, I'll be using accuracy as my metric to compare models."
   ]
  },
  {
   "cell_type": "markdown",
   "id": "local-intersection",
   "metadata": {},
   "source": [
    "# Make confusion matrix"
   ]
  },
  {
   "cell_type": "code",
   "execution_count": 170,
   "id": "rubber-measure",
   "metadata": {
    "ExecuteTime": {
     "end_time": "2021-04-26T21:58:06.100952Z",
     "start_time": "2021-04-26T21:58:06.078353Z"
    }
   },
   "outputs": [],
   "source": [
    "def make_confusion_matrix(model, threshold=.5):\n",
    "    \"\"\"\n",
    "    Creates a heat map confusion matrix, and prints out precision, recall, F1,\n",
    "    accuracy, training, and test scores.\n",
    "    \"\"\"\n",
    "    # Predict class 1 if probability of being in class 1 is greater than threshold\n",
    "    # (model.predict(X_test) does this automatically with a threshold of 0.5)\n",
    "    fig, ax = plt.subplots(figsize=(8,6))\n",
    "    y_predict = (model.predict_proba(X_test)[:, 1] >= threshold)\n",
    "    functional_confusion = confusion_matrix(y_test, y_predict)\n",
    "\n",
    "    #Print the heatmap\n",
    "    group_names = ['True Neg','False Po','False Neg','True Pos']\n",
    "    group_counts = ['{0:0.0f}'.format(value) for value in\n",
    "            functional_confusion.flatten()]\n",
    "    group_percentages = ['{0:.2%}'.format(value) for value in\n",
    "            functional_confusion.flatten()/np.sum(functional_confusion)]\n",
    "    labels = [f'{v1}\\n{v2}\\n{v3}' for v1, v2, v3 in\n",
    "          zip(group_names,group_counts,group_percentages)]\n",
    "    labels = np.asarray(labels).reshape(2,2)\n",
    "    xlabels = ['Did Not Sign Up', 'Signed Up']\n",
    "    ylabels = ['Did Not Sign Up', 'Signed Up']\n",
    "    sns.heatmap(functional_confusion, annot=labels, fmt='', cmap='Blues', \n",
    "                xticklabels=xlabels, yticklabels=ylabels)\n",
    "    ax.set_ylim([2,0])\n",
    "    plt.xlabel('prediction')\n",
    "    plt.ylabel('actual')\n",
    "    \n",
    "    #Print various scores/metrics\n",
    "    print(\"Precision: {:6.4f},   Recall: {:6.4f}\".format(precision_score(y_test, y_predict), \n",
    "                                                     recall_score(y_test, y_predict)))\n",
    "    print(\"F1 Score: \", f1_score(y_test, y_predict))\n",
    "    print(\"ROC AUC score : \", roc_auc_score(y_test, model.predict_proba(X_test)[:,1]))\n",
    "    \n",
    "    print(\"Accuracy score: \", accuracy_score(y_test, y_predict))\n",
    "    \n",
    "    print('Training accuracy:', model.score(X_train, y_train))\n",
    "    print('Test accuracy:', model.score(X_test, y_test))"
   ]
  },
  {
   "cell_type": "markdown",
   "id": "executed-graphic",
   "metadata": {},
   "source": [
    "# Logistic Regression"
   ]
  },
  {
   "cell_type": "code",
   "execution_count": 171,
   "id": "induced-filename",
   "metadata": {
    "ExecuteTime": {
     "end_time": "2021-04-26T21:58:06.627534Z",
     "start_time": "2021-04-26T21:58:06.615104Z"
    }
   },
   "outputs": [],
   "source": [
    "# Define target and features\n",
    "X = df_train.drop(columns='Rewards_Signup')\n",
    "y = df_train['Rewards_Signup']\n",
    "\n",
    "# Split into train and test\n",
    "X_train, X_test, y_train, y_test = train_test_split(X, y, test_size=0.2, random_state=4)"
   ]
  },
  {
   "cell_type": "code",
   "execution_count": 172,
   "id": "sapphire-tiffany",
   "metadata": {
    "ExecuteTime": {
     "end_time": "2021-04-26T21:58:07.062606Z",
     "start_time": "2021-04-26T21:58:07.033849Z"
    }
   },
   "outputs": [],
   "source": [
    "# Scale since there are multiple features\n",
    "scaler = StandardScaler()\n",
    "X_train = scaler.fit_transform(X_train)\n",
    "X_test = scaler.transform(X_test) # Scale test features"
   ]
  },
  {
   "cell_type": "code",
   "execution_count": 173,
   "id": "packed-milwaukee",
   "metadata": {
    "ExecuteTime": {
     "end_time": "2021-04-26T21:58:07.451809Z",
     "start_time": "2021-04-26T21:58:07.433676Z"
    }
   },
   "outputs": [
    {
     "data": {
      "text/plain": [
       "LogisticRegression(C=0.1, penalty='l1', solver='liblinear')"
      ]
     },
     "execution_count": 173,
     "metadata": {},
     "output_type": "execute_result"
    }
   ],
   "source": [
    "# Create the model\n",
    "logistic_model = LogisticRegression(penalty='l1', solver='liblinear', C=.1) # Create model\n",
    "logistic_model.fit(X_train, y_train) # Fit model on training data"
   ]
  },
  {
   "cell_type": "code",
   "execution_count": 174,
   "id": "grave-webmaster",
   "metadata": {
    "ExecuteTime": {
     "end_time": "2021-04-26T21:58:08.444281Z",
     "start_time": "2021-04-26T21:58:08.271158Z"
    }
   },
   "outputs": [
    {
     "name": "stdout",
     "output_type": "stream",
     "text": [
      "Precision: 0.7097,   Recall: 0.6875\n",
      "F1 Score:  0.6984126984126984\n",
      "ROC AUC score :  0.8397253787878788\n",
      "Accuracy score:  0.8061224489795918\n",
      "Training accuracy: 0.8174807197943444\n",
      "Test accuracy: 0.8061224489795918\n"
     ]
    },
    {
     "data": {
      "image/png": "[encoded data removed]",
      "text/plain": [
       "<Figure size 576x432 with 2 Axes>"
      ]
     },
     "metadata": {
      "needs_background": "light"
     },
     "output_type": "display_data"
    }
   ],
   "source": [
    "# Print confusion matrix with metrics\n",
    "make_confusion_matrix(logistic_model)"
   ]
  },
  {
   "cell_type": "markdown",
   "id": "likely-swimming",
   "metadata": {},
   "source": [
    "# Random Forest Model"
   ]
  },
  {
   "cell_type": "code",
   "execution_count": 175,
   "id": "disabled-devices",
   "metadata": {
    "ExecuteTime": {
     "end_time": "2021-04-26T21:58:08.865229Z",
     "start_time": "2021-04-26T21:58:08.857520Z"
    }
   },
   "outputs": [],
   "source": [
    "# Define target and features\n",
    "X = df_train.drop(columns='Rewards_Signup')\n",
    "y = df_train['Rewards_Signup']\n",
    "\n",
    "# Split into train and test\n",
    "X_train, X_test, y_train, y_test = train_test_split(X, y, test_size=0.2, random_state=4)"
   ]
  },
  {
   "cell_type": "code",
   "execution_count": 176,
   "id": "cloudy-pharmacology",
   "metadata": {
    "ExecuteTime": {
     "end_time": "2021-04-26T21:58:09.453136Z",
     "start_time": "2021-04-26T21:58:09.293653Z"
    }
   },
   "outputs": [
    {
     "data": {
      "text/plain": [
       "RandomForestClassifier()"
      ]
     },
     "execution_count": 176,
     "metadata": {},
     "output_type": "execute_result"
    }
   ],
   "source": [
    "# Create the model\n",
    "clf=RandomForestClassifier(n_estimators=100)\n",
    "clf.fit(X_train,y_train)"
   ]
  },
  {
   "cell_type": "code",
   "execution_count": 177,
   "id": "hourly-watch",
   "metadata": {
    "ExecuteTime": {
     "end_time": "2021-04-26T21:58:10.084549Z",
     "start_time": "2021-04-26T21:58:09.854091Z"
    }
   },
   "outputs": [
    {
     "name": "stdout",
     "output_type": "stream",
     "text": [
      "Precision: 0.6667,   Recall: 0.7500\n",
      "F1 Score:  0.7058823529411765\n",
      "ROC AUC score :  0.8612689393939394\n",
      "Accuracy score:  0.7959183673469388\n",
      "Training accuracy: 0.9845758354755784\n",
      "Test accuracy: 0.7959183673469388\n"
     ]
    },
    {
     "data": {
      "image/png": "[encoded data removed]",
      "text/plain": [
       "<Figure size 576x432 with 2 Axes>"
      ]
     },
     "metadata": {
      "needs_background": "light"
     },
     "output_type": "display_data"
    }
   ],
   "source": [
    "# Print confusion matrix with metrics\n",
    "make_confusion_matrix(clf)"
   ]
  },
  {
   "cell_type": "markdown",
   "id": "worst-possible",
   "metadata": {},
   "source": [
    "# XGBoost"
   ]
  },
  {
   "cell_type": "code",
   "execution_count": 178,
   "id": "finished-field",
   "metadata": {
    "ExecuteTime": {
     "end_time": "2021-04-26T21:58:10.462899Z",
     "start_time": "2021-04-26T21:58:10.452230Z"
    }
   },
   "outputs": [
    {
     "data": {
      "text/html": [
       "<div>\n",
       "<style scoped>\n",
       "    .dataframe tbody tr th:only-of-type {\n",
       "        vertical-align: middle;\n",
       "    }\n",
       "\n",
       "    .dataframe tbody tr th {\n",
       "        vertical-align: top;\n",
       "    }\n",
       "\n",
       "    .dataframe thead th {\n",
       "        text-align: right;\n",
       "    }\n",
       "</style>\n",
       "<table border=\"1\" class=\"dataframe\">\n",
       "  <thead>\n",
       "    <tr style=\"text-align: right;\">\n",
       "      <th></th>\n",
       "      <th>Rewards_Signup</th>\n",
       "      <th>Age</th>\n",
       "      <th>Sex</th>\n",
       "      <th>Addtl_HH_size</th>\n",
       "      <th>LastPurchaseAmt</th>\n",
       "      <th>CustomerTier</th>\n",
       "      <th>New</th>\n",
       "      <th>Reactivated</th>\n",
       "    </tr>\n",
       "  </thead>\n",
       "  <tbody>\n",
       "    <tr>\n",
       "      <th>0</th>\n",
       "      <td>1</td>\n",
       "      <td>29.0</td>\n",
       "      <td>0</td>\n",
       "      <td>0</td>\n",
       "      <td>10.5000</td>\n",
       "      <td>2</td>\n",
       "      <td>1</td>\n",
       "      <td>0</td>\n",
       "    </tr>\n",
       "    <tr>\n",
       "      <th>1</th>\n",
       "      <td>1</td>\n",
       "      <td>19.0</td>\n",
       "      <td>0</td>\n",
       "      <td>0</td>\n",
       "      <td>7.8792</td>\n",
       "      <td>3</td>\n",
       "      <td>0</td>\n",
       "      <td>0</td>\n",
       "    </tr>\n",
       "    <tr>\n",
       "      <th>2</th>\n",
       "      <td>0</td>\n",
       "      <td>25.0</td>\n",
       "      <td>1</td>\n",
       "      <td>0</td>\n",
       "      <td>7.0500</td>\n",
       "      <td>3</td>\n",
       "      <td>1</td>\n",
       "      <td>0</td>\n",
       "    </tr>\n",
       "    <tr>\n",
       "      <th>3</th>\n",
       "      <td>1</td>\n",
       "      <td>44.0</td>\n",
       "      <td>0</td>\n",
       "      <td>1</td>\n",
       "      <td>57.9792</td>\n",
       "      <td>1</td>\n",
       "      <td>0</td>\n",
       "      <td>1</td>\n",
       "    </tr>\n",
       "    <tr>\n",
       "      <th>4</th>\n",
       "      <td>1</td>\n",
       "      <td>32.0</td>\n",
       "      <td>1</td>\n",
       "      <td>0</td>\n",
       "      <td>7.9250</td>\n",
       "      <td>3</td>\n",
       "      <td>1</td>\n",
       "      <td>0</td>\n",
       "    </tr>\n",
       "  </tbody>\n",
       "</table>\n",
       "</div>"
      ],
      "text/plain": [
       "   Rewards_Signup   Age  Sex  Addtl_HH_size  LastPurchaseAmt  CustomerTier  \\\n",
       "0               1  29.0    0              0          10.5000             2   \n",
       "1               1  19.0    0              0           7.8792             3   \n",
       "2               0  25.0    1              0           7.0500             3   \n",
       "3               1  44.0    0              1          57.9792             1   \n",
       "4               1  32.0    1              0           7.9250             3   \n",
       "\n",
       "   New  Reactivated  \n",
       "0    1            0  \n",
       "1    0            0  \n",
       "2    1            0  \n",
       "3    0            1  \n",
       "4    1            0  "
      ]
     },
     "execution_count": 178,
     "metadata": {},
     "output_type": "execute_result"
    }
   ],
   "source": [
    "df_train.head()"
   ]
  },
  {
   "cell_type": "code",
   "execution_count": 179,
   "id": "electoral-while",
   "metadata": {
    "ExecuteTime": {
     "end_time": "2021-04-26T21:58:10.838214Z",
     "start_time": "2021-04-26T21:58:10.830515Z"
    }
   },
   "outputs": [],
   "source": [
    "# Define target and features\n",
    "#X = df_train.drop(columns='Rewards_Signup')\n",
    "X = df_train[['Age', 'Sex', 'Addtl_HH_size', 'LastPurchaseAmt']]\n",
    "y = df_train['Rewards_Signup']\n",
    "\n",
    "# Split into train and test\n",
    "X_test, X_val, y_test, y_val = train_test_split(X, y, test_size=0.2, random_state=4)\n",
    "X_train, X_val, y_train, y_val = train_test_split(X, y, test_size=0.2, random_state=4)"
   ]
  },
  {
   "cell_type": "code",
   "execution_count": 180,
   "id": "existing-jimmy",
   "metadata": {
    "ExecuteTime": {
     "end_time": "2021-04-26T21:58:11.200332Z",
     "start_time": "2021-04-26T21:58:11.168339Z"
    }
   },
   "outputs": [
    {
     "name": "stderr",
     "output_type": "stream",
     "text": [
      "/Users/kaitlynzeichick/anaconda3/lib/python3.6/site-packages/xgboost/sklearn.py:888: UserWarning: The use of label encoder in XGBClassifier is deprecated and will be removed in a future release. To remove this warning, do the following: 1) Pass option use_label_encoder=False when constructing XGBClassifier object; and 2) Encode your labels (y) as integers starting with 0, i.e. 0, 1, 2, ..., [num_class - 1].\n",
      "  warnings.warn(label_encoder_deprecation_msg, UserWarning)\n"
     ]
    },
    {
     "data": {
      "text/plain": [
       "XGBClassifier(base_score=0.5, booster='gbtree', colsample_bylevel=1,\n",
       "              colsample_bynode=1, colsample_bytree=0.8, gamma=0, gpu_id=-1,\n",
       "              importance_type='gain', interaction_constraints='',\n",
       "              learning_rate=0.1, max_delta_step=0, max_depth=3,\n",
       "              min_child_weight=1, missing=nan, monotone_constraints='()',\n",
       "              n_estimators=30000, n_jobs=4, num_parallel_tree=1, random_state=0,\n",
       "              reg_alpha=0, reg_lambda=1, scale_pos_weight=1, subsample=1,\n",
       "              tree_method='exact', validate_parameters=1, verbosity=None)"
      ]
     },
     "execution_count": 180,
     "metadata": {},
     "output_type": "execute_result"
    }
   ],
   "source": [
    "# Create model\n",
    "gbm = xgb.XGBClassifier( \n",
    "                       n_estimators=30000, #arbitrary large number\n",
    "                       max_depth=3,\n",
    "                       objective=\"binary:logistic\",\n",
    "                       learning_rate=.1, \n",
    "                       subsample=1,\n",
    "                       min_child_weight=1,\n",
    "                       colsample_bytree=.8\n",
    "                      )\n",
    "\n",
    "eval_set=[(X_train,y_train),(X_val,y_val)] #tracking train/validation error as we go\n",
    "\n",
    "gbm.fit( \n",
    "                    X_train, y_train, \n",
    "                    eval_set=eval_set,\n",
    "                    eval_metric='aucpr',\n",
    "                    early_stopping_rounds=20,\n",
    "                    verbose=False #gives output log as below\n",
    "                   )"
   ]
  },
  {
   "cell_type": "code",
   "execution_count": 181,
   "id": "intended-necklace",
   "metadata": {
    "ExecuteTime": {
     "end_time": "2021-04-26T21:58:11.790321Z",
     "start_time": "2021-04-26T21:58:11.586661Z"
    }
   },
   "outputs": [
    {
     "name": "stdout",
     "output_type": "stream",
     "text": [
      "Precision: 0.8507,   Recall: 0.7451\n",
      "F1 Score:  0.7944250871080138\n",
      "ROC AUC score :  0.9007145230973745\n",
      "Accuracy score:  0.8483290488431876\n",
      "Training accuracy: 0.8483290488431876\n",
      "Test accuracy: 0.8483290488431876\n"
     ]
    },
    {
     "data": {
      "image/png": "[encoded data removed]",
      "text/plain": [
       "<Figure size 576x432 with 2 Axes>"
      ]
     },
     "metadata": {
      "needs_background": "light"
     },
     "output_type": "display_data"
    }
   ],
   "source": [
    "make_confusion_matrix(gbm)"
   ]
  },
  {
   "cell_type": "markdown",
   "id": "fifth-screw",
   "metadata": {},
   "source": [
    "# Final Test - XGBoost"
   ]
  },
  {
   "cell_type": "code",
   "execution_count": 192,
   "id": "friendly-capital",
   "metadata": {
    "ExecuteTime": {
     "end_time": "2021-04-26T22:13:31.675198Z",
     "start_time": "2021-04-26T22:13:31.618928Z"
    }
   },
   "outputs": [
    {
     "name": "stdout",
     "output_type": "stream",
     "text": [
      "F1 Score:  0.7126436781609196\n",
      "ROC AUC score :  0.8332792207792208\n",
      "*** Accuracy score:  0.7807017543859649\n",
      "Precision: 0.7209,   Recall: 0.7045\n"
     ]
    }
   ],
   "source": [
    "X_test = df_test[['Age', 'Sex', 'Addtl_HH_size', 'LastPurchaseAmt']]\n",
    "y_test = df_test['Rewards_Signup']\n",
    "\n",
    "y_predict = (gbm.predict_proba(X_test)[:, 1] >= .5)\n",
    "\n",
    "print(\"F1 Score: \", f1_score(y_test, y_predict))\n",
    "print(\"ROC AUC score : \", roc_auc_score(y_test, gbm.predict_proba(X_test)[:,1]))\n",
    "print(\"*** Accuracy score: \", accuracy_score(y_test, y_predict))\n",
    "print(\"Precision: {:6.4f},   Recall: {:6.4f}\".format(precision_score(y_test, y_predict), \n",
    "                        recall_score(y_test, y_predict)))"
   ]
  }
 ],
 "metadata": {
  "kernelspec": {
   "display_name": "Python 3",
   "language": "python",
   "name": "python3"
  },
  "language_info": {
   "codemirror_mode": {
    "name": "ipython",
    "version": 3
   },
   "file_extension": ".py",
   "mimetype": "text/x-python",
   "name": "python",
   "nbconvert_exporter": "python",
   "pygments_lexer": "ipython3",
   "version": "3.6.13"
  },
  "toc": {
   "base_numbering": 1,
   "nav_menu": {},
   "number_sections": true,
   "sideBar": true,
   "skip_h1_title": false,
   "title_cell": "Table of Contents",
   "title_sidebar": "Contents",
   "toc_cell": false,
   "toc_position": {},
   "toc_section_display": true,
   "toc_window_display": true
  },
  "varInspector": {
   "cols": {
    "lenName": 16,
    "lenType": 16,
    "lenVar": 40
   },
   "kernels_config": {
    "python": {
     "delete_cmd_postfix": "",
     "delete_cmd_prefix": "del ",
     "library": "var_list.py",
     "varRefreshCmd": "print(var_dic_list())"
    },
    "r": {
     "delete_cmd_postfix": ") ",
     "delete_cmd_prefix": "rm(",
     "library": "var_list.r",
     "varRefreshCmd": "cat(var_dic_list()) "
    }
   },
   "types_to_exclude": [
    "module",
    "function",
    "builtin_function_or_method",
    "instance",
    "_Feature"
   ],
   "window_display": false
  }
 },
 "nbformat": 4,
 "nbformat_minor": 5
}
