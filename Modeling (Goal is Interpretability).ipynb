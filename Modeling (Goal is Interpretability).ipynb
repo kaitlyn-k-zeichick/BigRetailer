{
 "cells": [
  {
   "cell_type": "markdown",
   "id": "personal-bones",
   "metadata": {},
   "source": [
    "# Summary"
   ]
  },
  {
   "cell_type": "markdown",
   "id": "faced-small",
   "metadata": {},
   "source": [
    "Using logistic regression, the final accuracy score was 77%. This model was used to investigate how BigRetail can increase signups.\n",
    "\n",
    "The results showed that the people most likely to sign up for rewards are women, high value customers, and big spenders."
   ]
  },
  {
   "cell_type": "markdown",
   "id": "affiliated-singapore",
   "metadata": {},
   "source": [
    "# Import Libraries and Data"
   ]
  },
  {
   "cell_type": "code",
   "execution_count": 2,
   "id": "biblical-exchange",
   "metadata": {
    "ExecuteTime": {
     "end_time": "2021-04-27T16:41:36.933695Z",
     "start_time": "2021-04-27T16:41:35.007723Z"
    }
   },
   "outputs": [],
   "source": [
    "import pandas as pd\n",
    "\n",
    "# Prepping for modeling\n",
    "from sklearn.model_selection import train_test_split\n",
    "from sklearn.preprocessing import StandardScaler\n",
    "\n",
    "from sklearn.linear_model import LogisticRegression\n",
    "\n",
    "# Metrics\n",
    "from sklearn import metrics\n",
    "from sklearn.metrics import roc_auc_score, confusion_matrix, roc_curve\n",
    "from sklearn.metrics import precision_score, recall_score, precision_recall_curve,f1_score, fbeta_score\n",
    "from sklearn.metrics import accuracy_score"
   ]
  },
  {
   "cell_type": "code",
   "execution_count": 3,
   "id": "documentary-insight",
   "metadata": {
    "ExecuteTime": {
     "end_time": "2021-04-27T16:41:36.973376Z",
     "start_time": "2021-04-27T16:41:36.958655Z"
    }
   },
   "outputs": [],
   "source": [
    "df_train = pd.read_csv('train_df_cleaned.csv')\n",
    "df_test = pd.read_csv('test_df_cleaned.csv')"
   ]
  },
  {
   "cell_type": "code",
   "execution_count": 4,
   "id": "existing-communication",
   "metadata": {
    "ExecuteTime": {
     "end_time": "2021-04-27T16:41:37.786965Z",
     "start_time": "2021-04-27T16:41:37.778448Z"
    }
   },
   "outputs": [],
   "source": [
    "df_train.drop(columns=['Unnamed: 0'], inplace = True)\n",
    "df_test.drop(columns=['Unnamed: 0'], inplace = True)"
   ]
  },
  {
   "cell_type": "markdown",
   "id": "insured-rwanda",
   "metadata": {},
   "source": [
    "# Modeling - Logistic Regression"
   ]
  },
  {
   "cell_type": "code",
   "execution_count": 5,
   "id": "collectible-oklahoma",
   "metadata": {
    "ExecuteTime": {
     "end_time": "2021-04-27T16:41:38.959518Z",
     "start_time": "2021-04-27T16:41:38.937085Z"
    }
   },
   "outputs": [
    {
     "data": {
      "text/html": [
       "<div>\n",
       "<style scoped>\n",
       "    .dataframe tbody tr th:only-of-type {\n",
       "        vertical-align: middle;\n",
       "    }\n",
       "\n",
       "    .dataframe tbody tr th {\n",
       "        vertical-align: top;\n",
       "    }\n",
       "\n",
       "    .dataframe thead th {\n",
       "        text-align: right;\n",
       "    }\n",
       "</style>\n",
       "<table border=\"1\" class=\"dataframe\">\n",
       "  <thead>\n",
       "    <tr style=\"text-align: right;\">\n",
       "      <th></th>\n",
       "      <th>Rewards_Signup</th>\n",
       "      <th>Age</th>\n",
       "      <th>Sex</th>\n",
       "      <th>Addtl_HH_size</th>\n",
       "      <th>LastPurchaseAmt</th>\n",
       "      <th>CustomerTier</th>\n",
       "      <th>New</th>\n",
       "      <th>Reactivated</th>\n",
       "    </tr>\n",
       "  </thead>\n",
       "  <tbody>\n",
       "    <tr>\n",
       "      <th>0</th>\n",
       "      <td>1</td>\n",
       "      <td>29.0</td>\n",
       "      <td>0</td>\n",
       "      <td>0</td>\n",
       "      <td>10.5000</td>\n",
       "      <td>2</td>\n",
       "      <td>1</td>\n",
       "      <td>0</td>\n",
       "    </tr>\n",
       "    <tr>\n",
       "      <th>1</th>\n",
       "      <td>1</td>\n",
       "      <td>19.0</td>\n",
       "      <td>0</td>\n",
       "      <td>0</td>\n",
       "      <td>7.8792</td>\n",
       "      <td>3</td>\n",
       "      <td>0</td>\n",
       "      <td>0</td>\n",
       "    </tr>\n",
       "    <tr>\n",
       "      <th>2</th>\n",
       "      <td>0</td>\n",
       "      <td>25.0</td>\n",
       "      <td>1</td>\n",
       "      <td>0</td>\n",
       "      <td>7.0500</td>\n",
       "      <td>3</td>\n",
       "      <td>1</td>\n",
       "      <td>0</td>\n",
       "    </tr>\n",
       "    <tr>\n",
       "      <th>3</th>\n",
       "      <td>1</td>\n",
       "      <td>44.0</td>\n",
       "      <td>0</td>\n",
       "      <td>1</td>\n",
       "      <td>57.9792</td>\n",
       "      <td>1</td>\n",
       "      <td>0</td>\n",
       "      <td>1</td>\n",
       "    </tr>\n",
       "    <tr>\n",
       "      <th>4</th>\n",
       "      <td>1</td>\n",
       "      <td>32.0</td>\n",
       "      <td>1</td>\n",
       "      <td>0</td>\n",
       "      <td>7.9250</td>\n",
       "      <td>3</td>\n",
       "      <td>1</td>\n",
       "      <td>0</td>\n",
       "    </tr>\n",
       "  </tbody>\n",
       "</table>\n",
       "</div>"
      ],
      "text/plain": [
       "   Rewards_Signup   Age  Sex  Addtl_HH_size  LastPurchaseAmt  CustomerTier  \\\n",
       "0               1  29.0    0              0          10.5000             2   \n",
       "1               1  19.0    0              0           7.8792             3   \n",
       "2               0  25.0    1              0           7.0500             3   \n",
       "3               1  44.0    0              1          57.9792             1   \n",
       "4               1  32.0    1              0           7.9250             3   \n",
       "\n",
       "   New  Reactivated  \n",
       "0    1            0  \n",
       "1    0            0  \n",
       "2    1            0  \n",
       "3    0            1  \n",
       "4    1            0  "
      ]
     },
     "execution_count": 5,
     "metadata": {},
     "output_type": "execute_result"
    }
   ],
   "source": [
    "df_train.head()"
   ]
  },
  {
   "cell_type": "code",
   "execution_count": 6,
   "id": "geographic-magazine",
   "metadata": {
    "ExecuteTime": {
     "end_time": "2021-04-27T16:41:39.508200Z",
     "start_time": "2021-04-27T16:41:39.492090Z"
    }
   },
   "outputs": [],
   "source": [
    "# Define target and features\n",
    "X = df_train[['Age', 'Sex', 'Addtl_HH_size', 'LastPurchaseAmt', 'CustomerTier', 'New', 'Reactivated']]\n",
    "y = df_train['Rewards_Signup']\n",
    "\n",
    "# Split into train and test\n",
    "X_train, X_test, y_train, y_test = train_test_split(X, y, test_size=0.2, random_state=4)"
   ]
  },
  {
   "cell_type": "code",
   "execution_count": 7,
   "id": "female-holder",
   "metadata": {
    "ExecuteTime": {
     "end_time": "2021-04-27T16:41:40.557662Z",
     "start_time": "2021-04-27T16:41:40.543985Z"
    }
   },
   "outputs": [],
   "source": [
    "# Scale since there are multiple features\n",
    "scaler = StandardScaler()\n",
    "X_train = scaler.fit_transform(X_train)\n",
    "X_test = scaler.transform(X_test) # Scale test features"
   ]
  },
  {
   "cell_type": "code",
   "execution_count": 8,
   "id": "hired-height",
   "metadata": {
    "ExecuteTime": {
     "end_time": "2021-04-27T16:41:41.121123Z",
     "start_time": "2021-04-27T16:41:41.106549Z"
    }
   },
   "outputs": [
    {
     "data": {
      "text/plain": [
       "LogisticRegression(C=0.1, penalty='l1', solver='liblinear')"
      ]
     },
     "execution_count": 8,
     "metadata": {},
     "output_type": "execute_result"
    }
   ],
   "source": [
    "# Create the model\n",
    "logistic_model = LogisticRegression(penalty='l1', solver='liblinear', C=.1) # Create model\n",
    "logistic_model.fit(X_train, y_train) # Fit model on training data"
   ]
  },
  {
   "cell_type": "code",
   "execution_count": 9,
   "id": "copyrighted-novel",
   "metadata": {
    "ExecuteTime": {
     "end_time": "2021-04-27T16:41:42.161528Z",
     "start_time": "2021-04-27T16:41:42.111655Z"
    }
   },
   "outputs": [
    {
     "name": "stdout",
     "output_type": "stream",
     "text": [
      "Precision: 0.7097,   Recall: 0.6875\n",
      "F1 Score:  0.6984126984126984\n",
      "ROC AUC score :  0.8397253787878788\n",
      "Accuracy score:  0.8061224489795918\n",
      "Training accuracy: 0.8174807197943444\n",
      "Test accuracy: 0.8061224489795918\n"
     ]
    }
   ],
   "source": [
    "#Print various scores/metrics\n",
    "y_predict = (logistic_model.predict_proba(X_test)[:, 1] >= .5)\n",
    "\n",
    "print(\"Precision: {:6.4f},   Recall: {:6.4f}\".format(precision_score(y_test, y_predict), \n",
    "                                                     recall_score(y_test, y_predict)))\n",
    "print(\"F1 Score: \", f1_score(y_test, y_predict))\n",
    "print(\"ROC AUC score : \", roc_auc_score(y_test, logistic_model.predict_proba(X_test)[:,1]))\n",
    "    \n",
    "print(\"Accuracy score: \", accuracy_score(y_test, y_predict))\n",
    "    \n",
    "print('Training accuracy:', logistic_model.score(X_train, y_train))\n",
    "print('Test accuracy:', logistic_model.score(X_test, y_test))"
   ]
  },
  {
   "cell_type": "code",
   "execution_count": 10,
   "id": "fabulous-rental",
   "metadata": {
    "ExecuteTime": {
     "end_time": "2021-04-27T16:41:42.930795Z",
     "start_time": "2021-04-27T16:41:42.918732Z"
    }
   },
   "outputs": [
    {
     "data": {
      "text/plain": [
       "[('Age', -0.015690393894629926),\n",
       " ('Sex', -1.1781879191762892),\n",
       " ('Addtl_HH_size', -0.018471616534562117),\n",
       " ('LastPurchaseAmt', 0.0909396505793005),\n",
       " ('CustomerTier', -0.565217644202949),\n",
       " ('New', 0.0),\n",
       " ('Reactivated', 0.0)]"
      ]
     },
     "execution_count": 10,
     "metadata": {},
     "output_type": "execute_result"
    }
   ],
   "source": [
    "# List coefficients\n",
    "list_coef = list(zip(X.columns, logistic_model.coef_[0]))\n",
    "list_coef"
   ]
  },
  {
   "cell_type": "code",
   "execution_count": 11,
   "id": "yellow-glenn",
   "metadata": {
    "ExecuteTime": {
     "end_time": "2021-04-27T16:41:43.781503Z",
     "start_time": "2021-04-27T16:41:43.777534Z"
    }
   },
   "outputs": [],
   "source": [
    "from math import e"
   ]
  },
  {
   "cell_type": "code",
   "execution_count": 12,
   "id": "cheap-plate",
   "metadata": {
    "ExecuteTime": {
     "end_time": "2021-04-27T16:41:46.253257Z",
     "start_time": "2021-04-27T16:41:46.246328Z"
    }
   },
   "outputs": [],
   "source": [
    "# List features and their coefficients in a sorted and interpretable format.\n",
    "\n",
    "# Each coefficient represents log odds. Put each coefficient as the exponent of e so that\n",
    "# it represents the odds. Subtract one and multiple by 100 so that coefficients can be \n",
    "# interpreted as increasing the odds of the pump being functional by ___ percent.\n",
    "new_tuple = () \n",
    "for itup in list_coef:\n",
    "    new_tuple += (round((e**itup[1] - 1) * 100, 2),)\n",
    "    \n",
    "interpretable = list(zip(X.columns, new_tuple)) # List of features and their odds"
   ]
  },
  {
   "cell_type": "code",
   "execution_count": 13,
   "id": "middle-mention",
   "metadata": {
    "ExecuteTime": {
     "end_time": "2021-04-27T16:41:46.900896Z",
     "start_time": "2021-04-27T16:41:46.894152Z"
    }
   },
   "outputs": [
    {
     "data": {
      "text/plain": [
       "[('Age', -1.56),\n",
       " ('Sex', -69.22),\n",
       " ('Addtl_HH_size', -1.83),\n",
       " ('LastPurchaseAmt', 9.52),\n",
       " ('CustomerTier', -43.18),\n",
       " ('New', 0.0),\n",
       " ('Reactivated', 0.0)]"
      ]
     },
     "execution_count": 13,
     "metadata": {},
     "output_type": "execute_result"
    }
   ],
   "source": [
    "interpretable"
   ]
  },
  {
   "cell_type": "markdown",
   "id": "consolidated-canyon",
   "metadata": {},
   "source": [
    "What this means:\n",
    "* The three biggest predictors of whether or not a person will sign up for the RewardsProgram is their Sex, their CustomerTier score, and their Last Purchase.\n",
    "* Women are more likely than men to sign up for rewards. Being a woman increases the odds that they'll sign up by 69.22%.\n",
    "* The CustomerTier score is doing a pretty good job. Valuable customers are more likely to sign up than non-valuable customers. Being a valuable customer increases the odds that they'll sign up by 43.17%.\n",
    "* Lastly, people who spent more money on their most recent purchase are more likely to sign up than people who spend less. Each additional dollar that a person spends increases the likelihood that they'll sign up by 9.51%."
   ]
  },
  {
   "cell_type": "code",
   "execution_count": 14,
   "id": "through-annual",
   "metadata": {
    "ExecuteTime": {
     "end_time": "2021-04-27T16:41:48.864731Z",
     "start_time": "2021-04-27T16:41:48.829620Z"
    }
   },
   "outputs": [
    {
     "name": "stdout",
     "output_type": "stream",
     "text": [
      "Men w rewards:  57\n",
      "Men without rewards:  267\n",
      "0.17592592592592593\n",
      "Women w rewards:  128\n",
      "Women without rewards:  35\n",
      "0.3950617283950617\n"
     ]
    }
   ],
   "source": [
    "# Sanity check\n",
    "print('Men w rewards: ', len(df_train[(df_train.Sex == 1) & (df_train.Rewards_Signup == 1)]))\n",
    "print('Men without rewards: ', len(df_train[(df_train.Sex == 1) & (df_train.Rewards_Signup == 0)]))\n",
    "print(len(df_train[(df_train.Sex == 1) & (df_train.Rewards_Signup == 1)]) / len(df_train[df_train.Sex == 1]))\n",
    "\n",
    "print('Women w rewards: ', len(df_train[(df_train.Sex == 0) & (df_train.Rewards_Signup == 1)]))\n",
    "print('Women without rewards: ', len(df_train[(df_train.Sex == 0) & (df_train.Rewards_Signup == 0)]))\n",
    "print(len(df_train[(df_train.Sex == 0) & (df_train.Rewards_Signup == 1)]) / len(df_train[df_train.Sex == 1]))"
   ]
  },
  {
   "cell_type": "markdown",
   "id": "comic-enhancement",
   "metadata": {},
   "source": [
    "# Final Test"
   ]
  },
  {
   "cell_type": "code",
   "execution_count": 16,
   "id": "selective-dominant",
   "metadata": {
    "ExecuteTime": {
     "end_time": "2021-04-27T16:42:51.957144Z",
     "start_time": "2021-04-27T16:42:51.934961Z"
    }
   },
   "outputs": [
    {
     "name": "stdout",
     "output_type": "stream",
     "text": [
      "F1 Score:  0.6749999999999999\n",
      "ROC AUC score :  0.8074675324675324\n",
      "*** Accuracy score:  0.7719298245614035\n",
      "Precision: 0.7500,   Recall: 0.6136\n"
     ]
    }
   ],
   "source": [
    "X_test = df_test[['Age', 'Sex', 'Addtl_HH_size', 'LastPurchaseAmt', 'CustomerTier', 'New', 'Reactivated']]\n",
    "y_test = df_test['Rewards_Signup']\n",
    "\n",
    "y_predict = (logistic_model.predict_proba(X_test)[:, 1] >= .5)\n",
    "\n",
    "print(\"F1 Score: \", f1_score(y_test, y_predict))\n",
    "print(\"ROC AUC score : \", roc_auc_score(y_test, logistic_model.predict_proba(X_test)[:,1]))\n",
    "print(\"*** Accuracy score: \", accuracy_score(y_test, y_predict))\n",
    "print(\"Precision: {:6.4f},   Recall: {:6.4f}\".format(precision_score(y_test, y_predict), \n",
    "                        recall_score(y_test, y_predict)))"
   ]
  }
 ],
 "metadata": {
  "kernelspec": {
   "display_name": "Python 3",
   "language": "python",
   "name": "python3"
  },
  "language_info": {
   "codemirror_mode": {
    "name": "ipython",
    "version": 3
   },
   "file_extension": ".py",
   "mimetype": "text/x-python",
   "name": "python",
   "nbconvert_exporter": "python",
   "pygments_lexer": "ipython3",
   "version": "3.6.13"
  },
  "toc": {
   "base_numbering": 1,
   "nav_menu": {},
   "number_sections": true,
   "sideBar": true,
   "skip_h1_title": false,
   "title_cell": "Table of Contents",
   "title_sidebar": "Contents",
   "toc_cell": false,
   "toc_position": {},
   "toc_section_display": true,
   "toc_window_display": false
  },
  "varInspector": {
   "cols": {
    "lenName": 16,
    "lenType": 16,
    "lenVar": 40
   },
   "kernels_config": {
    "python": {
     "delete_cmd_postfix": "",
     "delete_cmd_prefix": "del ",
     "library": "var_list.py",
     "varRefreshCmd": "print(var_dic_list())"
    },
    "r": {
     "delete_cmd_postfix": ") ",
     "delete_cmd_prefix": "rm(",
     "library": "var_list.r",
     "varRefreshCmd": "cat(var_dic_list()) "
    }
   },
   "types_to_exclude": [
    "module",
    "function",
    "builtin_function_or_method",
    "instance",
    "_Feature"
   ],
   "window_display": false
  }
 },
 "nbformat": 4,
 "nbformat_minor": 5
}
