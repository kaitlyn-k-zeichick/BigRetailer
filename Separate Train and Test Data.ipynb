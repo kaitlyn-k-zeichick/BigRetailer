{
 "cells": [
  {
   "cell_type": "markdown",
   "id": "stainless-polish",
   "metadata": {},
   "source": [
    "# Import libraries and data"
   ]
  },
  {
   "cell_type": "code",
   "execution_count": 4,
   "id": "faced-specific",
   "metadata": {
    "ExecuteTime": {
     "end_time": "2021-04-26T16:11:00.001911Z",
     "start_time": "2021-04-26T16:10:59.998657Z"
    }
   },
   "outputs": [],
   "source": [
    "import pandas as pd"
   ]
  },
  {
   "cell_type": "code",
   "execution_count": 5,
   "id": "christian-recycling",
   "metadata": {
    "ExecuteTime": {
     "end_time": "2021-04-26T16:11:00.694225Z",
     "start_time": "2021-04-26T16:11:00.675849Z"
    }
   },
   "outputs": [],
   "source": [
    "df = pd.read_csv('BigRetail_CRM.csv')"
   ]
  },
  {
   "cell_type": "code",
   "execution_count": 6,
   "id": "fuzzy-afghanistan",
   "metadata": {
    "ExecuteTime": {
     "end_time": "2021-04-26T16:11:01.381811Z",
     "start_time": "2021-04-26T16:11:01.364702Z"
    }
   },
   "outputs": [],
   "source": [
    "#Randomly shuffle the data\n",
    "df = df.sample(frac=1).reset_index(drop=True)"
   ]
  },
  {
   "cell_type": "code",
   "execution_count": 7,
   "id": "automotive-alabama",
   "metadata": {
    "ExecuteTime": {
     "end_time": "2021-04-26T16:11:02.971865Z",
     "start_time": "2021-04-26T16:11:02.956681Z"
    }
   },
   "outputs": [
    {
     "name": "stdout",
     "output_type": "stream",
     "text": [
      "Shape of new dataframes - (712, 10) , (179, 10)\n"
     ]
    }
   ],
   "source": [
    "#Split into 80-20 training data and test data.\n",
    "eighty_percent = int(len(df.index)*.8)\n",
    "train = df.iloc[:eighty_percent]\n",
    "test = df.iloc[eighty_percent:]\n",
    "print(\"Shape of new dataframes - {} , {}\".format(train.shape, test.shape)) \n",
    "\n",
    "train.to_csv('train_data.csv')\n",
    "test.to_csv('test_data.csv')"
   ]
  }
 ],
 "metadata": {
  "kernelspec": {
   "display_name": "Python 3",
   "language": "python",
   "name": "python3"
  },
  "language_info": {
   "codemirror_mode": {
    "name": "ipython",
    "version": 3
   },
   "file_extension": ".py",
   "mimetype": "text/x-python",
   "name": "python",
   "nbconvert_exporter": "python",
   "pygments_lexer": "ipython3",
   "version": "3.6.13"
  },
  "toc": {
   "base_numbering": 1,
   "nav_menu": {},
   "number_sections": true,
   "sideBar": true,
   "skip_h1_title": false,
   "title_cell": "Table of Contents",
   "title_sidebar": "Contents",
   "toc_cell": false,
   "toc_position": {},
   "toc_section_display": true,
   "toc_window_display": false
  },
  "varInspector": {
   "cols": {
    "lenName": 16,
    "lenType": 16,
    "lenVar": 40
   },
   "kernels_config": {
    "python": {
     "delete_cmd_postfix": "",
     "delete_cmd_prefix": "del ",
     "library": "var_list.py",
     "varRefreshCmd": "print(var_dic_list())"
    },
    "r": {
     "delete_cmd_postfix": ") ",
     "delete_cmd_prefix": "rm(",
     "library": "var_list.r",
     "varRefreshCmd": "cat(var_dic_list()) "
    }
   },
   "types_to_exclude": [
    "module",
    "function",
    "builtin_function_or_method",
    "instance",
    "_Feature"
   ],
   "window_display": false
  }
 },
 "nbformat": 4,
 "nbformat_minor": 5
}
